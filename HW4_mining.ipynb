{
  "nbformat": 4,
  "nbformat_minor": 0,
  "metadata": {
    "colab": {
      "name": "HW4_mining.ipynb",
      "provenance": []
    },
    "kernelspec": {
      "name": "python3",
      "display_name": "Python 3"
    },
    "language_info": {
      "name": "python"
    }
  },
  "cells": [
    {
      "cell_type": "code",
      "metadata": {
        "id": "647BMXkEStXH"
      },
      "source": [
        "import tensorflow as tf"
      ],
      "execution_count": null,
      "outputs": []
    },
    {
      "cell_type": "code",
      "metadata": {
        "colab": {
          "resources": {
            "http://localhost:8080/nbextensions/google.colab/files.js": {
              "data": "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",
              "ok": true,
              "headers": [
                [
                  "content-type",
                  "application/javascript"
                ]
              ],
              "status": 200,
              "status_text": ""
            }
          },
          "base_uri": "https://localhost:8080/",
          "height": 75
        },
        "id": "Ng8xfhIrS253",
        "outputId": "53197a71-24e6-4c0f-ca12-8613e10c40bc"
      },
      "source": [
        "import pandas as pd\n",
        "from google.colab import files\n",
        "uploaded = files.upload()"
      ],
      "execution_count": null,
      "outputs": [
        {
          "output_type": "display_data",
          "data": {
            "text/html": [
              "\n",
              "     <input type=\"file\" id=\"files-eddf5a10-d11a-4c38-8a54-2aa87e3a423a\" name=\"files[]\" multiple disabled\n",
              "        style=\"border:none\" />\n",
              "     <output id=\"result-eddf5a10-d11a-4c38-8a54-2aa87e3a423a\">\n",
              "      Upload widget is only available when the cell has been executed in the\n",
              "      current browser session. Please rerun this cell to enable.\n",
              "      </output>\n",
              "      <script src=\"/nbextensions/google.colab/files.js\"></script> "
            ],
            "text/plain": [
              "<IPython.core.display.HTML object>"
            ]
          },
          "metadata": {
            "tags": []
          }
        },
        {
          "output_type": "stream",
          "text": [
            "Saving housePrice data.csv to housePrice data (2).csv\n"
          ],
          "name": "stdout"
        }
      ]
    },
    {
      "cell_type": "code",
      "metadata": {
        "id": "fyzElRlFS64W"
      },
      "source": [
        "import io\n",
        "df = pd.read_csv(io.BytesIO(uploaded['housePrice data.csv']), header = None)\n",
        "df.columns = ['change']"
      ],
      "execution_count": null,
      "outputs": []
    },
    {
      "cell_type": "code",
      "metadata": {
        "id": "S2THJIVrS_lh"
      },
      "source": [
        "df1 = df.change.apply(lambda x: pd.Series(str(x).split()))\n",
        "df1.columns = ['crim','zn','indus','riverside','nox','rm','age','dis','rad','tax','ptratio','black','Istat','medv']"
      ],
      "execution_count": null,
      "outputs": []
    },
    {
      "cell_type": "code",
      "metadata": {
        "colab": {
          "base_uri": "https://localhost:8080/",
          "height": 202
        },
        "id": "8ZPykY98Y336",
        "outputId": "26bccd8c-2bc2-48fd-816f-775475cf0a7e"
      },
      "source": [
        "df1.head()"
      ],
      "execution_count": null,
      "outputs": [
        {
          "output_type": "execute_result",
          "data": {
            "text/html": [
              "<div>\n",
              "<style scoped>\n",
              "    .dataframe tbody tr th:only-of-type {\n",
              "        vertical-align: middle;\n",
              "    }\n",
              "\n",
              "    .dataframe tbody tr th {\n",
              "        vertical-align: top;\n",
              "    }\n",
              "\n",
              "    .dataframe thead th {\n",
              "        text-align: right;\n",
              "    }\n",
              "</style>\n",
              "<table border=\"1\" class=\"dataframe\">\n",
              "  <thead>\n",
              "    <tr style=\"text-align: right;\">\n",
              "      <th></th>\n",
              "      <th>crim</th>\n",
              "      <th>zn</th>\n",
              "      <th>indus</th>\n",
              "      <th>riverside</th>\n",
              "      <th>nox</th>\n",
              "      <th>rm</th>\n",
              "      <th>age</th>\n",
              "      <th>dis</th>\n",
              "      <th>rad</th>\n",
              "      <th>tax</th>\n",
              "      <th>ptratio</th>\n",
              "      <th>black</th>\n",
              "      <th>Istat</th>\n",
              "      <th>medv</th>\n",
              "    </tr>\n",
              "  </thead>\n",
              "  <tbody>\n",
              "    <tr>\n",
              "      <th>0</th>\n",
              "      <td>0.04337</td>\n",
              "      <td>21.00</td>\n",
              "      <td>5.640</td>\n",
              "      <td>0</td>\n",
              "      <td>0.4390</td>\n",
              "      <td>6.1150</td>\n",
              "      <td>63.00</td>\n",
              "      <td>6.8147</td>\n",
              "      <td>4</td>\n",
              "      <td>243.0</td>\n",
              "      <td>16.80</td>\n",
              "      <td>393.97</td>\n",
              "      <td>9.43</td>\n",
              "      <td>20.50</td>\n",
              "    </tr>\n",
              "    <tr>\n",
              "      <th>1</th>\n",
              "      <td>0.05360</td>\n",
              "      <td>21.00</td>\n",
              "      <td>5.640</td>\n",
              "      <td>0</td>\n",
              "      <td>0.4390</td>\n",
              "      <td>6.5110</td>\n",
              "      <td>21.10</td>\n",
              "      <td>6.8147</td>\n",
              "      <td>4</td>\n",
              "      <td>243.0</td>\n",
              "      <td>16.80</td>\n",
              "      <td>396.90</td>\n",
              "      <td>5.28</td>\n",
              "      <td>25.00</td>\n",
              "    </tr>\n",
              "    <tr>\n",
              "      <th>2</th>\n",
              "      <td>0.04981</td>\n",
              "      <td>21.00</td>\n",
              "      <td>5.640</td>\n",
              "      <td>0</td>\n",
              "      <td>0.4390</td>\n",
              "      <td>5.9980</td>\n",
              "      <td>21.40</td>\n",
              "      <td>6.8147</td>\n",
              "      <td>4</td>\n",
              "      <td>243.0</td>\n",
              "      <td>16.80</td>\n",
              "      <td>396.90</td>\n",
              "      <td>8.43</td>\n",
              "      <td>23.40</td>\n",
              "    </tr>\n",
              "    <tr>\n",
              "      <th>3</th>\n",
              "      <td>0.01360</td>\n",
              "      <td>75.00</td>\n",
              "      <td>4.000</td>\n",
              "      <td>0</td>\n",
              "      <td>0.4100</td>\n",
              "      <td>5.8880</td>\n",
              "      <td>47.60</td>\n",
              "      <td>7.3197</td>\n",
              "      <td>3</td>\n",
              "      <td>469.0</td>\n",
              "      <td>21.10</td>\n",
              "      <td>396.90</td>\n",
              "      <td>14.80</td>\n",
              "      <td>18.90</td>\n",
              "    </tr>\n",
              "    <tr>\n",
              "      <th>4</th>\n",
              "      <td>0.01311</td>\n",
              "      <td>90.00</td>\n",
              "      <td>1.220</td>\n",
              "      <td>0</td>\n",
              "      <td>0.4030</td>\n",
              "      <td>7.2490</td>\n",
              "      <td>21.90</td>\n",
              "      <td>8.6966</td>\n",
              "      <td>5</td>\n",
              "      <td>226.0</td>\n",
              "      <td>17.90</td>\n",
              "      <td>395.93</td>\n",
              "      <td>4.81</td>\n",
              "      <td>35.40</td>\n",
              "    </tr>\n",
              "  </tbody>\n",
              "</table>\n",
              "</div>"
            ],
            "text/plain": [
              "      crim     zn  indus riverside     nox  ...    tax ptratio   black  Istat   medv\n",
              "0  0.04337  21.00  5.640         0  0.4390  ...  243.0   16.80  393.97   9.43  20.50\n",
              "1  0.05360  21.00  5.640         0  0.4390  ...  243.0   16.80  396.90   5.28  25.00\n",
              "2  0.04981  21.00  5.640         0  0.4390  ...  243.0   16.80  396.90   8.43  23.40\n",
              "3  0.01360  75.00  4.000         0  0.4100  ...  469.0   21.10  396.90  14.80  18.90\n",
              "4  0.01311  90.00  1.220         0  0.4030  ...  226.0   17.90  395.93   4.81  35.40\n",
              "\n",
              "[5 rows x 14 columns]"
            ]
          },
          "metadata": {
            "tags": []
          },
          "execution_count": 5
        }
      ]
    },
    {
      "cell_type": "code",
      "metadata": {
        "colab": {
          "base_uri": "https://localhost:8080/",
          "height": 171
        },
        "id": "nSJzcQXCzTWN",
        "outputId": "364b9656-d607-4840-a7f1-008408dcee9b"
      },
      "source": [
        "df1.describe(include='all')"
      ],
      "execution_count": null,
      "outputs": [
        {
          "output_type": "execute_result",
          "data": {
            "text/html": [
              "<div>\n",
              "<style scoped>\n",
              "    .dataframe tbody tr th:only-of-type {\n",
              "        vertical-align: middle;\n",
              "    }\n",
              "\n",
              "    .dataframe tbody tr th {\n",
              "        vertical-align: top;\n",
              "    }\n",
              "\n",
              "    .dataframe thead th {\n",
              "        text-align: right;\n",
              "    }\n",
              "</style>\n",
              "<table border=\"1\" class=\"dataframe\">\n",
              "  <thead>\n",
              "    <tr style=\"text-align: right;\">\n",
              "      <th></th>\n",
              "      <th>crim</th>\n",
              "      <th>zn</th>\n",
              "      <th>indus</th>\n",
              "      <th>riverside</th>\n",
              "      <th>nox</th>\n",
              "      <th>rm</th>\n",
              "      <th>age</th>\n",
              "      <th>dis</th>\n",
              "      <th>rad</th>\n",
              "      <th>tax</th>\n",
              "      <th>ptratio</th>\n",
              "      <th>black</th>\n",
              "      <th>Istat</th>\n",
              "      <th>medv</th>\n",
              "    </tr>\n",
              "  </thead>\n",
              "  <tbody>\n",
              "    <tr>\n",
              "      <th>count</th>\n",
              "      <td>506</td>\n",
              "      <td>506</td>\n",
              "      <td>506</td>\n",
              "      <td>506</td>\n",
              "      <td>506</td>\n",
              "      <td>506</td>\n",
              "      <td>506</td>\n",
              "      <td>506</td>\n",
              "      <td>506</td>\n",
              "      <td>506</td>\n",
              "      <td>506</td>\n",
              "      <td>506</td>\n",
              "      <td>506</td>\n",
              "      <td>506</td>\n",
              "    </tr>\n",
              "    <tr>\n",
              "      <th>unique</th>\n",
              "      <td>504</td>\n",
              "      <td>26</td>\n",
              "      <td>76</td>\n",
              "      <td>2</td>\n",
              "      <td>81</td>\n",
              "      <td>446</td>\n",
              "      <td>356</td>\n",
              "      <td>412</td>\n",
              "      <td>9</td>\n",
              "      <td>66</td>\n",
              "      <td>46</td>\n",
              "      <td>357</td>\n",
              "      <td>455</td>\n",
              "      <td>229</td>\n",
              "    </tr>\n",
              "    <tr>\n",
              "      <th>top</th>\n",
              "      <td>0.01501</td>\n",
              "      <td>0.00</td>\n",
              "      <td>18.100</td>\n",
              "      <td>0</td>\n",
              "      <td>0.5380</td>\n",
              "      <td>5.7130</td>\n",
              "      <td>100.00</td>\n",
              "      <td>3.4952</td>\n",
              "      <td>24</td>\n",
              "      <td>666.0</td>\n",
              "      <td>20.20</td>\n",
              "      <td>396.90</td>\n",
              "      <td>14.10</td>\n",
              "      <td>50.00</td>\n",
              "    </tr>\n",
              "    <tr>\n",
              "      <th>freq</th>\n",
              "      <td>2</td>\n",
              "      <td>372</td>\n",
              "      <td>132</td>\n",
              "      <td>471</td>\n",
              "      <td>23</td>\n",
              "      <td>3</td>\n",
              "      <td>43</td>\n",
              "      <td>5</td>\n",
              "      <td>132</td>\n",
              "      <td>132</td>\n",
              "      <td>140</td>\n",
              "      <td>121</td>\n",
              "      <td>3</td>\n",
              "      <td>16</td>\n",
              "    </tr>\n",
              "  </tbody>\n",
              "</table>\n",
              "</div>"
            ],
            "text/plain": [
              "           crim    zn   indus riverside  ... ptratio   black  Istat   medv\n",
              "count       506   506     506       506  ...     506     506    506    506\n",
              "unique      504    26      76         2  ...      46     357    455    229\n",
              "top     0.01501  0.00  18.100         0  ...   20.20  396.90  14.10  50.00\n",
              "freq          2   372     132       471  ...     140     121      3     16\n",
              "\n",
              "[4 rows x 14 columns]"
            ]
          },
          "metadata": {
            "tags": []
          },
          "execution_count": 6
        }
      ]
    },
    {
      "cell_type": "code",
      "metadata": {
        "id": "yCbtmiaOZOW6"
      },
      "source": [
        "from sklearn.compose import ColumnTransformer\n",
        "from sklearn.preprocessing import StandardScaler\n",
        "\n",
        "ct = ColumnTransformer([('standardize', StandardScaler(), ['crim', 'zn', 'indus','nox','rm','age','dis','rad','tax','ptratio','black','Istat'])], remainder='passthrough')"
      ],
      "execution_count": null,
      "outputs": []
    },
    {
      "cell_type": "code",
      "metadata": {
        "colab": {
          "base_uri": "https://localhost:8080/"
        },
        "id": "ppiZ1V2lny8-",
        "outputId": "576e4188-c03f-4ce6-d13d-10351a298ad4"
      },
      "source": [
        "df1.columns"
      ],
      "execution_count": null,
      "outputs": [
        {
          "output_type": "execute_result",
          "data": {
            "text/plain": [
              "Index(['crim', 'zn', 'indus', 'riverside', 'nox', 'rm', 'age', 'dis', 'rad',\n",
              "       'tax', 'ptratio', 'black', 'Istat', 'medv'],\n",
              "      dtype='object')"
            ]
          },
          "metadata": {
            "tags": []
          },
          "execution_count": 7
        }
      ]
    },
    {
      "cell_type": "code",
      "metadata": {
        "id": "Lokvc3pWnkaA"
      },
      "source": [
        "import numpy as np\n",
        "X = np.asarray(df1[['crim', 'zn', 'indus', 'riverside', 'nox', 'rm', 'age', 'dis', 'rad',\n",
        "       'tax', 'ptratio', 'black', 'Istat']])\n",
        "y = np.asarray(df1[['medv']])"
      ],
      "execution_count": null,
      "outputs": []
    },
    {
      "cell_type": "code",
      "metadata": {
        "colab": {
          "base_uri": "https://localhost:8080/"
        },
        "id": "-oHguJvnyy0i",
        "outputId": "a5d9c129-aef7-4331-dc82-10ad2e3d7898"
      },
      "source": [
        "X[0:5]"
      ],
      "execution_count": null,
      "outputs": [
        {
          "output_type": "execute_result",
          "data": {
            "text/plain": [
              "array([['0.04337', '21.00', '5.640', '0', '0.4390', '6.1150', '63.00',\n",
              "        '6.8147', '4', '243.0', '16.80', '393.97', '9.43'],\n",
              "       ['0.05360', '21.00', '5.640', '0', '0.4390', '6.5110', '21.10',\n",
              "        '6.8147', '4', '243.0', '16.80', '396.90', '5.28'],\n",
              "       ['0.04981', '21.00', '5.640', '0', '0.4390', '5.9980', '21.40',\n",
              "        '6.8147', '4', '243.0', '16.80', '396.90', '8.43'],\n",
              "       ['0.01360', '75.00', '4.000', '0', '0.4100', '5.8880', '47.60',\n",
              "        '7.3197', '3', '469.0', '21.10', '396.90', '14.80'],\n",
              "       ['0.01311', '90.00', '1.220', '0', '0.4030', '7.2490', '21.90',\n",
              "        '8.6966', '5', '226.0', '17.90', '395.93', '4.81']], dtype=object)"
            ]
          },
          "metadata": {
            "tags": []
          },
          "execution_count": 9
        }
      ]
    },
    {
      "cell_type": "code",
      "metadata": {
        "colab": {
          "base_uri": "https://localhost:8080/"
        },
        "id": "Nyq6IO-ky5AR",
        "outputId": "72028608-6689-499c-901d-4859ec40a79c"
      },
      "source": [
        "y[0:5]"
      ],
      "execution_count": null,
      "outputs": [
        {
          "output_type": "execute_result",
          "data": {
            "text/plain": [
              "array([['20.50'],\n",
              "       ['25.00'],\n",
              "       ['23.40'],\n",
              "       ['18.90'],\n",
              "       ['35.40']], dtype=object)"
            ]
          },
          "metadata": {
            "tags": []
          },
          "execution_count": 10
        }
      ]
    },
    {
      "cell_type": "code",
      "metadata": {
        "id": "0BIHs0iqnQan"
      },
      "source": [
        "from sklearn.model_selection import train_test_split\n",
        "X_train, X_test, y_train, y_test = train_test_split(X,y,test_size=0.2, random_state = 1234)"
      ],
      "execution_count": null,
      "outputs": []
    },
    {
      "cell_type": "code",
      "metadata": {
        "colab": {
          "base_uri": "https://localhost:8080/"
        },
        "id": "vlasGk49oIGf",
        "outputId": "26301d5b-6424-4084-d8fa-2f0b9e02cea3"
      },
      "source": [
        "print(X_train.shape)\n",
        "print(X_test.shape)\n",
        "print(y_train.shape)\n",
        "print(y_test.shape)"
      ],
      "execution_count": null,
      "outputs": [
        {
          "output_type": "stream",
          "text": [
            "(404, 13)\n",
            "(102, 13)\n",
            "(404, 1)\n",
            "(102, 1)\n"
          ],
          "name": "stdout"
        }
      ]
    },
    {
      "cell_type": "code",
      "metadata": {
        "id": "IQcdFRoCqjyT"
      },
      "source": [
        "X_train_df = pd.DataFrame(X_train)\n",
        "X_test_df = pd.DataFrame(X_test)\n",
        "X_train_df.columns = ['crim', 'zn', 'indus', 'riverside', 'nox', 'rm', 'age', 'dis', 'rad',\n",
        "       'tax', 'ptratio', 'black', 'Istat']\n",
        "X_test_df.columns = ['crim', 'zn', 'indus', 'riverside', 'nox', 'rm', 'age', 'dis', 'rad',\n",
        "       'tax', 'ptratio', 'black', 'Istat']"
      ],
      "execution_count": null,
      "outputs": []
    },
    {
      "cell_type": "code",
      "metadata": {
        "id": "u-K9CZxXoaQx"
      },
      "source": [
        "X_train_scale = ct.fit_transform(X_train_df)\n",
        "X_test_scale = ct.fit_transform(X_test_df)"
      ],
      "execution_count": null,
      "outputs": []
    },
    {
      "cell_type": "code",
      "metadata": {
        "colab": {
          "base_uri": "https://localhost:8080/",
          "height": 202
        },
        "id": "u5aGyf68xNxV",
        "outputId": "1b135f3e-29e1-4800-dd78-1030fecf148b"
      },
      "source": [
        "X_train_df.head()"
      ],
      "execution_count": null,
      "outputs": [
        {
          "output_type": "execute_result",
          "data": {
            "text/html": [
              "<div>\n",
              "<style scoped>\n",
              "    .dataframe tbody tr th:only-of-type {\n",
              "        vertical-align: middle;\n",
              "    }\n",
              "\n",
              "    .dataframe tbody tr th {\n",
              "        vertical-align: top;\n",
              "    }\n",
              "\n",
              "    .dataframe thead th {\n",
              "        text-align: right;\n",
              "    }\n",
              "</style>\n",
              "<table border=\"1\" class=\"dataframe\">\n",
              "  <thead>\n",
              "    <tr style=\"text-align: right;\">\n",
              "      <th></th>\n",
              "      <th>crim</th>\n",
              "      <th>zn</th>\n",
              "      <th>indus</th>\n",
              "      <th>riverside</th>\n",
              "      <th>nox</th>\n",
              "      <th>rm</th>\n",
              "      <th>age</th>\n",
              "      <th>dis</th>\n",
              "      <th>rad</th>\n",
              "      <th>tax</th>\n",
              "      <th>ptratio</th>\n",
              "      <th>black</th>\n",
              "      <th>Istat</th>\n",
              "    </tr>\n",
              "  </thead>\n",
              "  <tbody>\n",
              "    <tr>\n",
              "      <th>0</th>\n",
              "      <td>0.10612</td>\n",
              "      <td>30.00</td>\n",
              "      <td>4.930</td>\n",
              "      <td>0</td>\n",
              "      <td>0.4280</td>\n",
              "      <td>6.0950</td>\n",
              "      <td>65.10</td>\n",
              "      <td>6.3361</td>\n",
              "      <td>6</td>\n",
              "      <td>300.0</td>\n",
              "      <td>16.60</td>\n",
              "      <td>394.62</td>\n",
              "      <td>12.40</td>\n",
              "    </tr>\n",
              "    <tr>\n",
              "      <th>1</th>\n",
              "      <td>3.47428</td>\n",
              "      <td>0.00</td>\n",
              "      <td>18.100</td>\n",
              "      <td>1</td>\n",
              "      <td>0.7180</td>\n",
              "      <td>8.7800</td>\n",
              "      <td>82.90</td>\n",
              "      <td>1.9047</td>\n",
              "      <td>24</td>\n",
              "      <td>666.0</td>\n",
              "      <td>20.20</td>\n",
              "      <td>354.55</td>\n",
              "      <td>5.29</td>\n",
              "    </tr>\n",
              "    <tr>\n",
              "      <th>2</th>\n",
              "      <td>11.81230</td>\n",
              "      <td>0.00</td>\n",
              "      <td>18.100</td>\n",
              "      <td>0</td>\n",
              "      <td>0.7180</td>\n",
              "      <td>6.8240</td>\n",
              "      <td>76.50</td>\n",
              "      <td>1.7940</td>\n",
              "      <td>24</td>\n",
              "      <td>666.0</td>\n",
              "      <td>20.20</td>\n",
              "      <td>48.45</td>\n",
              "      <td>22.74</td>\n",
              "    </tr>\n",
              "    <tr>\n",
              "      <th>3</th>\n",
              "      <td>1.23247</td>\n",
              "      <td>0.00</td>\n",
              "      <td>8.140</td>\n",
              "      <td>0</td>\n",
              "      <td>0.5380</td>\n",
              "      <td>6.1420</td>\n",
              "      <td>91.70</td>\n",
              "      <td>3.9769</td>\n",
              "      <td>4</td>\n",
              "      <td>307.0</td>\n",
              "      <td>21.00</td>\n",
              "      <td>396.90</td>\n",
              "      <td>18.72</td>\n",
              "    </tr>\n",
              "    <tr>\n",
              "      <th>4</th>\n",
              "      <td>1.27346</td>\n",
              "      <td>0.00</td>\n",
              "      <td>19.580</td>\n",
              "      <td>1</td>\n",
              "      <td>0.6050</td>\n",
              "      <td>6.2500</td>\n",
              "      <td>92.60</td>\n",
              "      <td>1.7984</td>\n",
              "      <td>5</td>\n",
              "      <td>403.0</td>\n",
              "      <td>14.70</td>\n",
              "      <td>338.92</td>\n",
              "      <td>5.50</td>\n",
              "    </tr>\n",
              "  </tbody>\n",
              "</table>\n",
              "</div>"
            ],
            "text/plain": [
              "       crim     zn   indus riverside     nox  ... rad    tax ptratio   black  Istat\n",
              "0   0.10612  30.00   4.930         0  0.4280  ...   6  300.0   16.60  394.62  12.40\n",
              "1   3.47428   0.00  18.100         1  0.7180  ...  24  666.0   20.20  354.55   5.29\n",
              "2  11.81230   0.00  18.100         0  0.7180  ...  24  666.0   20.20   48.45  22.74\n",
              "3   1.23247   0.00   8.140         0  0.5380  ...   4  307.0   21.00  396.90  18.72\n",
              "4   1.27346   0.00  19.580         1  0.6050  ...   5  403.0   14.70  338.92   5.50\n",
              "\n",
              "[5 rows x 13 columns]"
            ]
          },
          "metadata": {
            "tags": []
          },
          "execution_count": 17
        }
      ]
    },
    {
      "cell_type": "code",
      "metadata": {
        "colab": {
          "base_uri": "https://localhost:8080/",
          "height": 202
        },
        "id": "KfBZbESBw-DG",
        "outputId": "00cb79be-fec6-4892-b778-d563883fcffc"
      },
      "source": [
        "pd.DataFrame(X_train_scale).head()"
      ],
      "execution_count": null,
      "outputs": [
        {
          "output_type": "execute_result",
          "data": {
            "text/html": [
              "<div>\n",
              "<style scoped>\n",
              "    .dataframe tbody tr th:only-of-type {\n",
              "        vertical-align: middle;\n",
              "    }\n",
              "\n",
              "    .dataframe tbody tr th {\n",
              "        vertical-align: top;\n",
              "    }\n",
              "\n",
              "    .dataframe thead th {\n",
              "        text-align: right;\n",
              "    }\n",
              "</style>\n",
              "<table border=\"1\" class=\"dataframe\">\n",
              "  <thead>\n",
              "    <tr style=\"text-align: right;\">\n",
              "      <th></th>\n",
              "      <th>0</th>\n",
              "      <th>1</th>\n",
              "      <th>2</th>\n",
              "      <th>3</th>\n",
              "      <th>4</th>\n",
              "      <th>5</th>\n",
              "      <th>6</th>\n",
              "      <th>7</th>\n",
              "      <th>8</th>\n",
              "      <th>9</th>\n",
              "      <th>10</th>\n",
              "      <th>11</th>\n",
              "      <th>12</th>\n",
              "    </tr>\n",
              "  </thead>\n",
              "  <tbody>\n",
              "    <tr>\n",
              "      <th>0</th>\n",
              "      <td>-0.416189</td>\n",
              "      <td>0.82997</td>\n",
              "      <td>-0.931548</td>\n",
              "      <td>-1.11653</td>\n",
              "      <td>-0.242154</td>\n",
              "      <td>-0.108122</td>\n",
              "      <td>1.24374</td>\n",
              "      <td>-0.444547</td>\n",
              "      <td>-0.671303</td>\n",
              "      <td>-0.900641</td>\n",
              "      <td>0.419668</td>\n",
              "      <td>-0.0630949</td>\n",
              "      <td>0</td>\n",
              "    </tr>\n",
              "    <tr>\n",
              "      <th>1</th>\n",
              "      <td>-0.0371977</td>\n",
              "      <td>-0.480338</td>\n",
              "      <td>1.03915</td>\n",
              "      <td>1.4146</td>\n",
              "      <td>3.69629</td>\n",
              "      <td>0.517403</td>\n",
              "      <td>-0.904842</td>\n",
              "      <td>1.57718</td>\n",
              "      <td>1.48248</td>\n",
              "      <td>0.769075</td>\n",
              "      <td>-0.00698156</td>\n",
              "      <td>-1.04958</td>\n",
              "      <td>1</td>\n",
              "    </tr>\n",
              "    <tr>\n",
              "      <th>2</th>\n",
              "      <td>0.90101</td>\n",
              "      <td>-0.480338</td>\n",
              "      <td>1.03915</td>\n",
              "      <td>1.4146</td>\n",
              "      <td>0.827166</td>\n",
              "      <td>0.292495</td>\n",
              "      <td>-0.958515</td>\n",
              "      <td>1.57718</td>\n",
              "      <td>1.48248</td>\n",
              "      <td>0.769075</td>\n",
              "      <td>-3.26621</td>\n",
              "      <td>1.37153</td>\n",
              "      <td>0</td>\n",
              "    </tr>\n",
              "    <tr>\n",
              "      <th>3</th>\n",
              "      <td>-0.28945</td>\n",
              "      <td>-0.480338</td>\n",
              "      <td>-0.451218</td>\n",
              "      <td>-0.156448</td>\n",
              "      <td>-0.173213</td>\n",
              "      <td>0.826651</td>\n",
              "      <td>0.0998734</td>\n",
              "      <td>-0.669184</td>\n",
              "      <td>-0.630111</td>\n",
              "      <td>1.14012</td>\n",
              "      <td>0.443945</td>\n",
              "      <td>0.813777</td>\n",
              "      <td>0</td>\n",
              "    </tr>\n",
              "    <tr>\n",
              "      <th>4</th>\n",
              "      <td>-0.284838</td>\n",
              "      <td>-0.480338</td>\n",
              "      <td>1.26061</td>\n",
              "      <td>0.428331</td>\n",
              "      <td>-0.0147954</td>\n",
              "      <td>0.858279</td>\n",
              "      <td>-0.956382</td>\n",
              "      <td>-0.556866</td>\n",
              "      <td>-0.0651829</td>\n",
              "      <td>-1.78188</td>\n",
              "      <td>-0.173404</td>\n",
              "      <td>-1.02044</td>\n",
              "      <td>1</td>\n",
              "    </tr>\n",
              "  </tbody>\n",
              "</table>\n",
              "</div>"
            ],
            "text/plain": [
              "          0         1         2         3   ...        9           10         11 12\n",
              "0  -0.416189   0.82997 -0.931548  -1.11653  ... -0.900641    0.419668 -0.0630949  0\n",
              "1 -0.0371977 -0.480338   1.03915    1.4146  ...  0.769075 -0.00698156   -1.04958  1\n",
              "2    0.90101 -0.480338   1.03915    1.4146  ...  0.769075    -3.26621    1.37153  0\n",
              "3   -0.28945 -0.480338 -0.451218 -0.156448  ...   1.14012    0.443945   0.813777  0\n",
              "4  -0.284838 -0.480338   1.26061  0.428331  ...  -1.78188   -0.173404   -1.02044  1\n",
              "\n",
              "[5 rows x 13 columns]"
            ]
          },
          "metadata": {
            "tags": []
          },
          "execution_count": 18
        }
      ]
    },
    {
      "cell_type": "code",
      "metadata": {
        "id": "qYu0Hi_yrjRk"
      },
      "source": [
        "from tensorflow.keras.models import Sequential\n",
        "from tensorflow.keras.layers import InputLayer\n",
        "from tensorflow.keras.layers import Dense\n",
        "from tensorflow.keras.optimizers import Adam\n",
        "from tensorflow.keras.optimizers import SGD"
      ],
      "execution_count": null,
      "outputs": []
    },
    {
      "cell_type": "code",
      "metadata": {
        "id": "3puVV89_rW0s"
      },
      "source": [
        "def SGD_model(features):\n",
        "  model = Sequential()\n",
        "  input = InputLayer(input_shape=(features.shape[1],))\n",
        "  model.add(input)\n",
        "  model.add(Dense(32, activation = 'relu'))\n",
        "  model.add(Dense(1))\n",
        "  opt = SGD(learning_rate=0.001)\n",
        "  model.compile(loss='mean_squared_error',optimizer = opt,metrics=['mean_squared_error'])\n",
        "  return model\n"
      ],
      "execution_count": null,
      "outputs": []
    },
    {
      "cell_type": "code",
      "metadata": {
        "id": "FYKS3ZCTr-sU"
      },
      "source": [
        "def Adam_model(features):\n",
        "  model = Sequential()\n",
        "  input = InputLayer(input_shape=(features.shape[1],))\n",
        "  model.add(input)\n",
        "  model.add(Dense(32, activation = 'relu'))\n",
        "  model.add(Dense(1))\n",
        "  opt = Adam(learning_rate=0.001)\n",
        "  model.compile(loss='mean_squared_error',optimizer = opt,metrics=['mean_squared_error'])\n",
        "  return model"
      ],
      "execution_count": null,
      "outputs": []
    },
    {
      "cell_type": "code",
      "metadata": {
        "id": "qKci3N-MunIg"
      },
      "source": [
        "X_train_scale = np.asarray(X_train_scale).astype('float32')\n",
        "X_test_scale = np.asarray(X_test_scale).astype('float32')\n",
        "y_train = np.asarray(y_train).astype('float32')\n",
        "y_test = np.asarray(y_test).astype('float32')"
      ],
      "execution_count": null,
      "outputs": []
    },
    {
      "cell_type": "code",
      "metadata": {
        "id": "K8R_G7v4sK7j"
      },
      "source": [
        "SGD_model1 = SGD_model(X_train_scale)\n",
        "Adam_model1 = Adam_model(X_train_scale)"
      ],
      "execution_count": null,
      "outputs": []
    },
    {
      "cell_type": "code",
      "metadata": {
        "colab": {
          "base_uri": "https://localhost:8080/"
        },
        "id": "rhWxiXIIsZsg",
        "outputId": "c9abbced-aa76-4a96-cdc2-b88679339066"
      },
      "source": [
        "history = SGD_model1.fit(X_train_scale,y_train,epochs=100,batch_size=25)"
      ],
      "execution_count": null,
      "outputs": [
        {
          "output_type": "stream",
          "text": [
            "Epoch 1/100\n",
            "17/17 [==============================] - 0s 1ms/step - loss: 512.1396 - mean_squared_error: 512.1396\n",
            "Epoch 2/100\n",
            "17/17 [==============================] - 0s 1ms/step - loss: 328.2197 - mean_squared_error: 328.2197\n",
            "Epoch 3/100\n",
            "17/17 [==============================] - 0s 1ms/step - loss: 110.2923 - mean_squared_error: 110.2923\n",
            "Epoch 4/100\n",
            "17/17 [==============================] - 0s 1ms/step - loss: 69.6840 - mean_squared_error: 69.6840\n",
            "Epoch 5/100\n",
            "17/17 [==============================] - 0s 1ms/step - loss: 46.4330 - mean_squared_error: 46.4330\n",
            "Epoch 6/100\n",
            "17/17 [==============================] - 0s 1ms/step - loss: 44.3327 - mean_squared_error: 44.3327\n",
            "Epoch 7/100\n",
            "17/17 [==============================] - 0s 1ms/step - loss: 27.0056 - mean_squared_error: 27.0056\n",
            "Epoch 8/100\n",
            "17/17 [==============================] - 0s 1ms/step - loss: 24.0531 - mean_squared_error: 24.0531\n",
            "Epoch 9/100\n",
            "17/17 [==============================] - 0s 1ms/step - loss: 25.5760 - mean_squared_error: 25.5760\n",
            "Epoch 10/100\n",
            "17/17 [==============================] - 0s 1ms/step - loss: 25.0605 - mean_squared_error: 25.0605\n",
            "Epoch 11/100\n",
            "17/17 [==============================] - 0s 1ms/step - loss: 25.2090 - mean_squared_error: 25.2090\n",
            "Epoch 12/100\n",
            "17/17 [==============================] - 0s 1ms/step - loss: 22.9009 - mean_squared_error: 22.9009\n",
            "Epoch 13/100\n",
            "17/17 [==============================] - 0s 1ms/step - loss: 22.3602 - mean_squared_error: 22.3602\n",
            "Epoch 14/100\n",
            "17/17 [==============================] - 0s 1ms/step - loss: 21.2790 - mean_squared_error: 21.2790\n",
            "Epoch 15/100\n",
            "17/17 [==============================] - 0s 1ms/step - loss: 20.2232 - mean_squared_error: 20.2232\n",
            "Epoch 16/100\n",
            "17/17 [==============================] - 0s 1ms/step - loss: 16.7773 - mean_squared_error: 16.7773\n",
            "Epoch 17/100\n",
            "17/17 [==============================] - 0s 1ms/step - loss: 21.9762 - mean_squared_error: 21.9762\n",
            "Epoch 18/100\n",
            "17/17 [==============================] - 0s 1ms/step - loss: 16.1762 - mean_squared_error: 16.1762\n",
            "Epoch 19/100\n",
            "17/17 [==============================] - 0s 2ms/step - loss: 18.9802 - mean_squared_error: 18.9802\n",
            "Epoch 20/100\n",
            "17/17 [==============================] - 0s 2ms/step - loss: 17.9526 - mean_squared_error: 17.9526\n",
            "Epoch 21/100\n",
            "17/17 [==============================] - 0s 1ms/step - loss: 17.8885 - mean_squared_error: 17.8885\n",
            "Epoch 22/100\n",
            "17/17 [==============================] - 0s 1ms/step - loss: 17.9290 - mean_squared_error: 17.9290\n",
            "Epoch 23/100\n",
            "17/17 [==============================] - 0s 1ms/step - loss: 14.1095 - mean_squared_error: 14.1095\n",
            "Epoch 24/100\n",
            "17/17 [==============================] - 0s 2ms/step - loss: 16.1547 - mean_squared_error: 16.1547\n",
            "Epoch 25/100\n",
            "17/17 [==============================] - 0s 1ms/step - loss: 15.2693 - mean_squared_error: 15.2693\n",
            "Epoch 26/100\n",
            "17/17 [==============================] - 0s 1ms/step - loss: 16.5115 - mean_squared_error: 16.5115\n",
            "Epoch 27/100\n",
            "17/17 [==============================] - 0s 1ms/step - loss: 16.3154 - mean_squared_error: 16.3154\n",
            "Epoch 28/100\n",
            "17/17 [==============================] - 0s 1ms/step - loss: 13.5611 - mean_squared_error: 13.5611\n",
            "Epoch 29/100\n",
            "17/17 [==============================] - 0s 1ms/step - loss: 13.9250 - mean_squared_error: 13.9250\n",
            "Epoch 30/100\n",
            "17/17 [==============================] - 0s 1ms/step - loss: 16.9517 - mean_squared_error: 16.9517\n",
            "Epoch 31/100\n",
            "17/17 [==============================] - 0s 2ms/step - loss: 14.0496 - mean_squared_error: 14.0496\n",
            "Epoch 32/100\n",
            "17/17 [==============================] - 0s 1ms/step - loss: 13.7086 - mean_squared_error: 13.7086\n",
            "Epoch 33/100\n",
            "17/17 [==============================] - 0s 1ms/step - loss: 12.3995 - mean_squared_error: 12.3995\n",
            "Epoch 34/100\n",
            "17/17 [==============================] - 0s 1ms/step - loss: 14.9521 - mean_squared_error: 14.9521\n",
            "Epoch 35/100\n",
            "17/17 [==============================] - 0s 1ms/step - loss: 13.3702 - mean_squared_error: 13.3702\n",
            "Epoch 36/100\n",
            "17/17 [==============================] - 0s 1ms/step - loss: 15.0947 - mean_squared_error: 15.0947\n",
            "Epoch 37/100\n",
            "17/17 [==============================] - 0s 1ms/step - loss: 16.5412 - mean_squared_error: 16.5412\n",
            "Epoch 38/100\n",
            "17/17 [==============================] - 0s 1ms/step - loss: 10.8830 - mean_squared_error: 10.8830\n",
            "Epoch 39/100\n",
            "17/17 [==============================] - 0s 1ms/step - loss: 13.3158 - mean_squared_error: 13.3158\n",
            "Epoch 40/100\n",
            "17/17 [==============================] - 0s 1ms/step - loss: 13.0262 - mean_squared_error: 13.0262\n",
            "Epoch 41/100\n",
            "17/17 [==============================] - 0s 1ms/step - loss: 12.0112 - mean_squared_error: 12.0112\n",
            "Epoch 42/100\n",
            "17/17 [==============================] - 0s 1ms/step - loss: 12.1976 - mean_squared_error: 12.1976\n",
            "Epoch 43/100\n",
            "17/17 [==============================] - 0s 1ms/step - loss: 13.6252 - mean_squared_error: 13.6252\n",
            "Epoch 44/100\n",
            "17/17 [==============================] - 0s 1ms/step - loss: 11.3138 - mean_squared_error: 11.3138\n",
            "Epoch 45/100\n",
            "17/17 [==============================] - 0s 1ms/step - loss: 12.0531 - mean_squared_error: 12.0531\n",
            "Epoch 46/100\n",
            "17/17 [==============================] - 0s 1ms/step - loss: 13.4415 - mean_squared_error: 13.4415\n",
            "Epoch 47/100\n",
            "17/17 [==============================] - 0s 1ms/step - loss: 11.2128 - mean_squared_error: 11.2128\n",
            "Epoch 48/100\n",
            "17/17 [==============================] - 0s 1ms/step - loss: 13.2043 - mean_squared_error: 13.2043\n",
            "Epoch 49/100\n",
            "17/17 [==============================] - 0s 1ms/step - loss: 10.2735 - mean_squared_error: 10.2735\n",
            "Epoch 50/100\n",
            "17/17 [==============================] - 0s 1ms/step - loss: 10.9079 - mean_squared_error: 10.9079\n",
            "Epoch 51/100\n",
            "17/17 [==============================] - 0s 1ms/step - loss: 10.3347 - mean_squared_error: 10.3347\n",
            "Epoch 52/100\n",
            "17/17 [==============================] - 0s 2ms/step - loss: 11.4066 - mean_squared_error: 11.4066\n",
            "Epoch 53/100\n",
            "17/17 [==============================] - 0s 1ms/step - loss: 10.9358 - mean_squared_error: 10.9358\n",
            "Epoch 54/100\n",
            "17/17 [==============================] - 0s 1ms/step - loss: 11.6466 - mean_squared_error: 11.6466\n",
            "Epoch 55/100\n",
            "17/17 [==============================] - 0s 1ms/step - loss: 14.3156 - mean_squared_error: 14.3156\n",
            "Epoch 56/100\n",
            "17/17 [==============================] - 0s 1ms/step - loss: 14.9569 - mean_squared_error: 14.9569\n",
            "Epoch 57/100\n",
            "17/17 [==============================] - 0s 2ms/step - loss: 12.2691 - mean_squared_error: 12.2691\n",
            "Epoch 58/100\n",
            "17/17 [==============================] - 0s 1ms/step - loss: 11.5741 - mean_squared_error: 11.5741\n",
            "Epoch 59/100\n",
            "17/17 [==============================] - 0s 1ms/step - loss: 10.8534 - mean_squared_error: 10.8534\n",
            "Epoch 60/100\n",
            "17/17 [==============================] - 0s 1ms/step - loss: 10.2565 - mean_squared_error: 10.2565\n",
            "Epoch 61/100\n",
            "17/17 [==============================] - 0s 1ms/step - loss: 10.9351 - mean_squared_error: 10.9351\n",
            "Epoch 62/100\n",
            "17/17 [==============================] - 0s 1ms/step - loss: 12.6552 - mean_squared_error: 12.6552\n",
            "Epoch 63/100\n",
            "17/17 [==============================] - 0s 1ms/step - loss: 13.1114 - mean_squared_error: 13.1114\n",
            "Epoch 64/100\n",
            "17/17 [==============================] - 0s 1ms/step - loss: 10.9890 - mean_squared_error: 10.9890\n",
            "Epoch 65/100\n",
            "17/17 [==============================] - 0s 1ms/step - loss: 8.8188 - mean_squared_error: 8.8188\n",
            "Epoch 66/100\n",
            "17/17 [==============================] - 0s 1ms/step - loss: 11.2157 - mean_squared_error: 11.2157\n",
            "Epoch 67/100\n",
            "17/17 [==============================] - 0s 2ms/step - loss: 12.0024 - mean_squared_error: 12.0024\n",
            "Epoch 68/100\n",
            "17/17 [==============================] - 0s 2ms/step - loss: 11.3104 - mean_squared_error: 11.3104\n",
            "Epoch 69/100\n",
            "17/17 [==============================] - 0s 2ms/step - loss: 12.4299 - mean_squared_error: 12.4299\n",
            "Epoch 70/100\n",
            "17/17 [==============================] - 0s 2ms/step - loss: 9.0925 - mean_squared_error: 9.0925\n",
            "Epoch 71/100\n",
            "17/17 [==============================] - 0s 1ms/step - loss: 8.5688 - mean_squared_error: 8.5688\n",
            "Epoch 72/100\n",
            "17/17 [==============================] - 0s 2ms/step - loss: 8.9335 - mean_squared_error: 8.9335\n",
            "Epoch 73/100\n",
            "17/17 [==============================] - 0s 1ms/step - loss: 12.1414 - mean_squared_error: 12.1414\n",
            "Epoch 74/100\n",
            "17/17 [==============================] - 0s 2ms/step - loss: 11.7813 - mean_squared_error: 11.7813\n",
            "Epoch 75/100\n",
            "17/17 [==============================] - 0s 2ms/step - loss: 11.0836 - mean_squared_error: 11.0836\n",
            "Epoch 76/100\n",
            "17/17 [==============================] - 0s 1ms/step - loss: 11.3328 - mean_squared_error: 11.3328\n",
            "Epoch 77/100\n",
            "17/17 [==============================] - 0s 1ms/step - loss: 11.5553 - mean_squared_error: 11.5553\n",
            "Epoch 78/100\n",
            "17/17 [==============================] - 0s 1ms/step - loss: 11.3424 - mean_squared_error: 11.3424\n",
            "Epoch 79/100\n",
            "17/17 [==============================] - 0s 1ms/step - loss: 9.8399 - mean_squared_error: 9.8399\n",
            "Epoch 80/100\n",
            "17/17 [==============================] - 0s 1ms/step - loss: 8.8656 - mean_squared_error: 8.8656\n",
            "Epoch 81/100\n",
            "17/17 [==============================] - 0s 1ms/step - loss: 10.9964 - mean_squared_error: 10.9964\n",
            "Epoch 82/100\n",
            "17/17 [==============================] - 0s 1ms/step - loss: 11.3278 - mean_squared_error: 11.3278\n",
            "Epoch 83/100\n",
            "17/17 [==============================] - 0s 995us/step - loss: 9.4778 - mean_squared_error: 9.4778\n",
            "Epoch 84/100\n",
            "17/17 [==============================] - 0s 1ms/step - loss: 12.0477 - mean_squared_error: 12.0477\n",
            "Epoch 85/100\n",
            "17/17 [==============================] - 0s 2ms/step - loss: 9.5740 - mean_squared_error: 9.5740\n",
            "Epoch 86/100\n",
            "17/17 [==============================] - 0s 2ms/step - loss: 12.0236 - mean_squared_error: 12.0236\n",
            "Epoch 87/100\n",
            "17/17 [==============================] - 0s 1ms/step - loss: 12.2320 - mean_squared_error: 12.2320\n",
            "Epoch 88/100\n",
            "17/17 [==============================] - 0s 1ms/step - loss: 10.9087 - mean_squared_error: 10.9087\n",
            "Epoch 89/100\n",
            "17/17 [==============================] - 0s 1ms/step - loss: 11.3679 - mean_squared_error: 11.3679\n",
            "Epoch 90/100\n",
            "17/17 [==============================] - 0s 1ms/step - loss: 11.1234 - mean_squared_error: 11.1234\n",
            "Epoch 91/100\n",
            "17/17 [==============================] - 0s 1ms/step - loss: 9.4608 - mean_squared_error: 9.4608\n",
            "Epoch 92/100\n",
            "17/17 [==============================] - 0s 1ms/step - loss: 9.3086 - mean_squared_error: 9.3086\n",
            "Epoch 93/100\n",
            "17/17 [==============================] - 0s 2ms/step - loss: 8.3156 - mean_squared_error: 8.3156\n",
            "Epoch 94/100\n",
            "17/17 [==============================] - 0s 1ms/step - loss: 8.6241 - mean_squared_error: 8.6241\n",
            "Epoch 95/100\n",
            "17/17 [==============================] - 0s 2ms/step - loss: 9.0521 - mean_squared_error: 9.0521\n",
            "Epoch 96/100\n",
            "17/17 [==============================] - 0s 1ms/step - loss: 9.8602 - mean_squared_error: 9.8602\n",
            "Epoch 97/100\n",
            "17/17 [==============================] - 0s 1ms/step - loss: 10.2136 - mean_squared_error: 10.2136\n",
            "Epoch 98/100\n",
            "17/17 [==============================] - 0s 1ms/step - loss: 9.6517 - mean_squared_error: 9.6517\n",
            "Epoch 99/100\n",
            "17/17 [==============================] - 0s 1ms/step - loss: 11.3762 - mean_squared_error: 11.3762\n",
            "Epoch 100/100\n",
            "17/17 [==============================] - 0s 1ms/step - loss: 9.4852 - mean_squared_error: 9.4852\n"
          ],
          "name": "stdout"
        }
      ]
    },
    {
      "cell_type": "code",
      "metadata": {
        "colab": {
          "base_uri": "https://localhost:8080/"
        },
        "id": "JZeIug9JvHYt",
        "outputId": "b4eb2bd6-c002-404f-c5b4-f8a402e0a3a4"
      },
      "source": [
        "history2 = Adam_model1.fit(X_train_scale,y_train,epochs=100,batch_size=25)"
      ],
      "execution_count": null,
      "outputs": [
        {
          "output_type": "stream",
          "text": [
            "Epoch 1/100\n",
            "17/17 [==============================] - 0s 1ms/step - loss: 581.1479 - mean_squared_error: 581.1479\n",
            "Epoch 2/100\n",
            "17/17 [==============================] - 0s 1ms/step - loss: 523.3639 - mean_squared_error: 523.3639\n",
            "Epoch 3/100\n",
            "17/17 [==============================] - 0s 2ms/step - loss: 516.9682 - mean_squared_error: 516.9682\n",
            "Epoch 4/100\n",
            "17/17 [==============================] - 0s 980us/step - loss: 490.1056 - mean_squared_error: 490.1056\n",
            "Epoch 5/100\n",
            "17/17 [==============================] - 0s 1ms/step - loss: 501.1103 - mean_squared_error: 501.1103\n",
            "Epoch 6/100\n",
            "17/17 [==============================] - 0s 1ms/step - loss: 480.9583 - mean_squared_error: 480.9583\n",
            "Epoch 7/100\n",
            "17/17 [==============================] - 0s 991us/step - loss: 451.1582 - mean_squared_error: 451.1582\n",
            "Epoch 8/100\n",
            "17/17 [==============================] - 0s 1ms/step - loss: 392.3939 - mean_squared_error: 392.3939\n",
            "Epoch 9/100\n",
            "17/17 [==============================] - 0s 1ms/step - loss: 378.2920 - mean_squared_error: 378.2920\n",
            "Epoch 10/100\n",
            "17/17 [==============================] - 0s 1ms/step - loss: 357.8081 - mean_squared_error: 357.8081\n",
            "Epoch 11/100\n",
            "17/17 [==============================] - 0s 1ms/step - loss: 327.9299 - mean_squared_error: 327.9299\n",
            "Epoch 12/100\n",
            "17/17 [==============================] - 0s 1ms/step - loss: 273.6111 - mean_squared_error: 273.6111\n",
            "Epoch 13/100\n",
            "17/17 [==============================] - 0s 1ms/step - loss: 250.8453 - mean_squared_error: 250.8453\n",
            "Epoch 14/100\n",
            "17/17 [==============================] - 0s 2ms/step - loss: 245.2392 - mean_squared_error: 245.2392\n",
            "Epoch 15/100\n",
            "17/17 [==============================] - 0s 1ms/step - loss: 232.4510 - mean_squared_error: 232.4510\n",
            "Epoch 16/100\n",
            "17/17 [==============================] - 0s 1ms/step - loss: 212.9655 - mean_squared_error: 212.9655\n",
            "Epoch 17/100\n",
            "17/17 [==============================] - 0s 1ms/step - loss: 165.0323 - mean_squared_error: 165.0323\n",
            "Epoch 18/100\n",
            "17/17 [==============================] - 0s 1ms/step - loss: 172.6026 - mean_squared_error: 172.6026\n",
            "Epoch 19/100\n",
            "17/17 [==============================] - 0s 1ms/step - loss: 160.6476 - mean_squared_error: 160.6476\n",
            "Epoch 20/100\n",
            "17/17 [==============================] - 0s 1ms/step - loss: 139.9820 - mean_squared_error: 139.9820\n",
            "Epoch 21/100\n",
            "17/17 [==============================] - 0s 1ms/step - loss: 134.6141 - mean_squared_error: 134.6141\n",
            "Epoch 22/100\n",
            "17/17 [==============================] - 0s 1ms/step - loss: 117.0613 - mean_squared_error: 117.0613\n",
            "Epoch 23/100\n",
            "17/17 [==============================] - 0s 2ms/step - loss: 109.4051 - mean_squared_error: 109.4051\n",
            "Epoch 24/100\n",
            "17/17 [==============================] - 0s 1ms/step - loss: 94.3242 - mean_squared_error: 94.3242\n",
            "Epoch 25/100\n",
            "17/17 [==============================] - 0s 1ms/step - loss: 75.9664 - mean_squared_error: 75.9664\n",
            "Epoch 26/100\n",
            "17/17 [==============================] - 0s 1ms/step - loss: 77.3143 - mean_squared_error: 77.3143\n",
            "Epoch 27/100\n",
            "17/17 [==============================] - 0s 1ms/step - loss: 76.1862 - mean_squared_error: 76.1862\n",
            "Epoch 28/100\n",
            "17/17 [==============================] - 0s 1ms/step - loss: 65.2653 - mean_squared_error: 65.2653\n",
            "Epoch 29/100\n",
            "17/17 [==============================] - 0s 1ms/step - loss: 56.9970 - mean_squared_error: 56.9970\n",
            "Epoch 30/100\n",
            "17/17 [==============================] - 0s 1ms/step - loss: 47.7740 - mean_squared_error: 47.7740\n",
            "Epoch 31/100\n",
            "17/17 [==============================] - 0s 1ms/step - loss: 49.4811 - mean_squared_error: 49.4811\n",
            "Epoch 32/100\n",
            "17/17 [==============================] - 0s 1ms/step - loss: 52.4314 - mean_squared_error: 52.4314\n",
            "Epoch 33/100\n",
            "17/17 [==============================] - 0s 1ms/step - loss: 41.5534 - mean_squared_error: 41.5534\n",
            "Epoch 34/100\n",
            "17/17 [==============================] - 0s 1ms/step - loss: 45.0544 - mean_squared_error: 45.0544\n",
            "Epoch 35/100\n",
            "17/17 [==============================] - 0s 1ms/step - loss: 41.4536 - mean_squared_error: 41.4536\n",
            "Epoch 36/100\n",
            "17/17 [==============================] - 0s 2ms/step - loss: 37.2040 - mean_squared_error: 37.2040\n",
            "Epoch 37/100\n",
            "17/17 [==============================] - 0s 1ms/step - loss: 30.9527 - mean_squared_error: 30.9527\n",
            "Epoch 38/100\n",
            "17/17 [==============================] - 0s 1ms/step - loss: 31.7728 - mean_squared_error: 31.7728\n",
            "Epoch 39/100\n",
            "17/17 [==============================] - 0s 1ms/step - loss: 31.5674 - mean_squared_error: 31.5674\n",
            "Epoch 40/100\n",
            "17/17 [==============================] - 0s 1ms/step - loss: 30.2788 - mean_squared_error: 30.2788\n",
            "Epoch 41/100\n",
            "17/17 [==============================] - 0s 1ms/step - loss: 39.0051 - mean_squared_error: 39.0051\n",
            "Epoch 42/100\n",
            "17/17 [==============================] - 0s 1ms/step - loss: 26.6490 - mean_squared_error: 26.6490\n",
            "Epoch 43/100\n",
            "17/17 [==============================] - 0s 1ms/step - loss: 24.7974 - mean_squared_error: 24.7974\n",
            "Epoch 44/100\n",
            "17/17 [==============================] - 0s 1ms/step - loss: 30.7177 - mean_squared_error: 30.7177\n",
            "Epoch 45/100\n",
            "17/17 [==============================] - 0s 1ms/step - loss: 22.6426 - mean_squared_error: 22.6426\n",
            "Epoch 46/100\n",
            "17/17 [==============================] - 0s 2ms/step - loss: 30.8141 - mean_squared_error: 30.8141\n",
            "Epoch 47/100\n",
            "17/17 [==============================] - 0s 1ms/step - loss: 27.3207 - mean_squared_error: 27.3207\n",
            "Epoch 48/100\n",
            "17/17 [==============================] - 0s 2ms/step - loss: 24.8116 - mean_squared_error: 24.8116\n",
            "Epoch 49/100\n",
            "17/17 [==============================] - 0s 1ms/step - loss: 22.6430 - mean_squared_error: 22.6430\n",
            "Epoch 50/100\n",
            "17/17 [==============================] - 0s 1ms/step - loss: 28.8254 - mean_squared_error: 28.8254\n",
            "Epoch 51/100\n",
            "17/17 [==============================] - 0s 1ms/step - loss: 25.9725 - mean_squared_error: 25.9725\n",
            "Epoch 52/100\n",
            "17/17 [==============================] - 0s 1ms/step - loss: 25.9730 - mean_squared_error: 25.9730\n",
            "Epoch 53/100\n",
            "17/17 [==============================] - 0s 1ms/step - loss: 27.0747 - mean_squared_error: 27.0747\n",
            "Epoch 54/100\n",
            "17/17 [==============================] - 0s 1ms/step - loss: 22.1647 - mean_squared_error: 22.1647\n",
            "Epoch 55/100\n",
            "17/17 [==============================] - 0s 2ms/step - loss: 26.0261 - mean_squared_error: 26.0261\n",
            "Epoch 56/100\n",
            "17/17 [==============================] - 0s 1ms/step - loss: 27.4794 - mean_squared_error: 27.4794\n",
            "Epoch 57/100\n",
            "17/17 [==============================] - 0s 1ms/step - loss: 23.9777 - mean_squared_error: 23.9777\n",
            "Epoch 58/100\n",
            "17/17 [==============================] - 0s 1ms/step - loss: 25.2625 - mean_squared_error: 25.2625\n",
            "Epoch 59/100\n",
            "17/17 [==============================] - 0s 1ms/step - loss: 21.7719 - mean_squared_error: 21.7719\n",
            "Epoch 60/100\n",
            "17/17 [==============================] - 0s 1ms/step - loss: 23.9864 - mean_squared_error: 23.9864\n",
            "Epoch 61/100\n",
            "17/17 [==============================] - 0s 1ms/step - loss: 23.0194 - mean_squared_error: 23.0194\n",
            "Epoch 62/100\n",
            "17/17 [==============================] - 0s 1ms/step - loss: 20.4544 - mean_squared_error: 20.4544\n",
            "Epoch 63/100\n",
            "17/17 [==============================] - 0s 1ms/step - loss: 21.9521 - mean_squared_error: 21.9521\n",
            "Epoch 64/100\n",
            "17/17 [==============================] - 0s 1ms/step - loss: 29.0728 - mean_squared_error: 29.0728\n",
            "Epoch 65/100\n",
            "17/17 [==============================] - 0s 1ms/step - loss: 20.5529 - mean_squared_error: 20.5529\n",
            "Epoch 66/100\n",
            "17/17 [==============================] - 0s 2ms/step - loss: 19.4731 - mean_squared_error: 19.4731\n",
            "Epoch 67/100\n",
            "17/17 [==============================] - 0s 1ms/step - loss: 20.1982 - mean_squared_error: 20.1982\n",
            "Epoch 68/100\n",
            "17/17 [==============================] - 0s 1ms/step - loss: 18.7856 - mean_squared_error: 18.7856\n",
            "Epoch 69/100\n",
            "17/17 [==============================] - 0s 1ms/step - loss: 24.9211 - mean_squared_error: 24.9211\n",
            "Epoch 70/100\n",
            "17/17 [==============================] - 0s 1ms/step - loss: 20.8082 - mean_squared_error: 20.8082\n",
            "Epoch 71/100\n",
            "17/17 [==============================] - 0s 1ms/step - loss: 24.9032 - mean_squared_error: 24.9032\n",
            "Epoch 72/100\n",
            "17/17 [==============================] - 0s 1ms/step - loss: 21.3530 - mean_squared_error: 21.3530\n",
            "Epoch 73/100\n",
            "17/17 [==============================] - 0s 2ms/step - loss: 21.2030 - mean_squared_error: 21.2030\n",
            "Epoch 74/100\n",
            "17/17 [==============================] - 0s 1ms/step - loss: 21.9354 - mean_squared_error: 21.9354\n",
            "Epoch 75/100\n",
            "17/17 [==============================] - 0s 1ms/step - loss: 20.2038 - mean_squared_error: 20.2038\n",
            "Epoch 76/100\n",
            "17/17 [==============================] - 0s 1ms/step - loss: 22.9689 - mean_squared_error: 22.9689\n",
            "Epoch 77/100\n",
            "17/17 [==============================] - 0s 1ms/step - loss: 20.7085 - mean_squared_error: 20.7085\n",
            "Epoch 78/100\n",
            "17/17 [==============================] - 0s 2ms/step - loss: 18.5519 - mean_squared_error: 18.5519\n",
            "Epoch 79/100\n",
            "17/17 [==============================] - 0s 1ms/step - loss: 17.1604 - mean_squared_error: 17.1604\n",
            "Epoch 80/100\n",
            "17/17 [==============================] - 0s 1ms/step - loss: 17.4690 - mean_squared_error: 17.4690\n",
            "Epoch 81/100\n",
            "17/17 [==============================] - 0s 1ms/step - loss: 18.8044 - mean_squared_error: 18.8044\n",
            "Epoch 82/100\n",
            "17/17 [==============================] - 0s 1ms/step - loss: 17.6247 - mean_squared_error: 17.6247\n",
            "Epoch 83/100\n",
            "17/17 [==============================] - 0s 1ms/step - loss: 21.7123 - mean_squared_error: 21.7123\n",
            "Epoch 84/100\n",
            "17/17 [==============================] - 0s 1ms/step - loss: 18.3433 - mean_squared_error: 18.3433\n",
            "Epoch 85/100\n",
            "17/17 [==============================] - 0s 1ms/step - loss: 19.4763 - mean_squared_error: 19.4763\n",
            "Epoch 86/100\n",
            "17/17 [==============================] - 0s 1ms/step - loss: 21.4689 - mean_squared_error: 21.4689\n",
            "Epoch 87/100\n",
            "17/17 [==============================] - 0s 2ms/step - loss: 19.6056 - mean_squared_error: 19.6056\n",
            "Epoch 88/100\n",
            "17/17 [==============================] - 0s 1ms/step - loss: 21.5789 - mean_squared_error: 21.5789\n",
            "Epoch 89/100\n",
            "17/17 [==============================] - 0s 1ms/step - loss: 20.3377 - mean_squared_error: 20.3377\n",
            "Epoch 90/100\n",
            "17/17 [==============================] - 0s 1ms/step - loss: 18.5442 - mean_squared_error: 18.5442\n",
            "Epoch 91/100\n",
            "17/17 [==============================] - 0s 1ms/step - loss: 17.2730 - mean_squared_error: 17.2730\n",
            "Epoch 92/100\n",
            "17/17 [==============================] - 0s 2ms/step - loss: 16.2755 - mean_squared_error: 16.2755\n",
            "Epoch 93/100\n",
            "17/17 [==============================] - 0s 1ms/step - loss: 22.2063 - mean_squared_error: 22.2063\n",
            "Epoch 94/100\n",
            "17/17 [==============================] - 0s 1ms/step - loss: 19.1646 - mean_squared_error: 19.1646\n",
            "Epoch 95/100\n",
            "17/17 [==============================] - 0s 1ms/step - loss: 21.1696 - mean_squared_error: 21.1696\n",
            "Epoch 96/100\n",
            "17/17 [==============================] - 0s 1ms/step - loss: 17.7933 - mean_squared_error: 17.7933\n",
            "Epoch 97/100\n",
            "17/17 [==============================] - 0s 1ms/step - loss: 18.4662 - mean_squared_error: 18.4662\n",
            "Epoch 98/100\n",
            "17/17 [==============================] - 0s 1ms/step - loss: 17.3579 - mean_squared_error: 17.3579\n",
            "Epoch 99/100\n",
            "17/17 [==============================] - 0s 1ms/step - loss: 16.8582 - mean_squared_error: 16.8582\n",
            "Epoch 100/100\n",
            "17/17 [==============================] - 0s 1ms/step - loss: 14.9083 - mean_squared_error: 14.9083\n"
          ],
          "name": "stdout"
        }
      ]
    },
    {
      "cell_type": "code",
      "metadata": {
        "colab": {
          "base_uri": "https://localhost:8080/",
          "height": 295
        },
        "id": "xEw6uO273CPH",
        "outputId": "15dee1ab-4a21-48bb-f8e4-53a53870f2f1"
      },
      "source": [
        "import matplotlib.pyplot as plt\n",
        "plt.plot(history.history['mean_squared_error'],label ='SGD')\n",
        "plt.plot(history2.history['mean_squared_error'],label = 'Adam')\n",
        "plt.title('MSE Comparison')\n",
        "plt.xlabel('Epoch')\n",
        "plt.ylabel('Mean Squared Error')\n",
        "plt.legend()\n",
        "plt.show()"
      ],
      "execution_count": null,
      "outputs": [
        {
          "output_type": "display_data",
          "data": {
            "image/png": "[encoded data removed]",
            "text/plain": [
              "<Figure size 432x288 with 1 Axes>"
            ]
          },
          "metadata": {
            "tags": [],
            "needs_background": "light"
          }
        }
      ]
    },
    {
      "cell_type": "markdown",
      "metadata": {
        "id": "MY5niaP56tau"
      },
      "source": [
        "พบว่า SGD optimizer และ Adam optimizer มี mean squared error ใกล้เคียงกันเมื่อ epoch มากกว่า 50 ครั้ง อย่างไรก็ตาม SGD จะมี error ลู่เข้าใกล้ 0 เร็วกว่า Adam และมี error ที่น้อยกว่า Adam อยู่จำนวนหนึ่งเสมอ"
      ]
    }
  ]
}