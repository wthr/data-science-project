{
  "nbformat": 4,
  "nbformat_minor": 0,
  "metadata": {
    "colab": {
      "name": "HW3_mining.ipynb",
      "provenance": []
    },
    "kernelspec": {
      "name": "python3",
      "display_name": "Python 3"
    },
    "language_info": {
      "name": "python"
    }
  },
  "cells": [
    {
      "cell_type": "code",
      "metadata": {
        "id": "X2IIu26vm96U"
      },
      "source": [
        "import tensorflow as tf"
      ],
      "execution_count": null,
      "outputs": []
    },
    {
      "cell_type": "code",
      "metadata": {
        "colab": {
          "resources": {
            "http://localhost:8080/nbextensions/google.colab/files.js": {
              "data": "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",
              "ok": true,
              "headers": [
                [
                  "content-type",
                  "application/javascript"
                ]
              ],
              "status": 200,
              "status_text": ""
            }
          },
          "base_uri": "https://localhost:8080/",
          "height": 75
        },
        "id": "ZA6Vuv8mm_rl",
        "outputId": "b7e5052b-d163-4a04-8a39-162e4df6d1d3"
      },
      "source": [
        "import pandas as pd\n",
        "from google.colab import files\n",
        "uploaded = files.upload()"
      ],
      "execution_count": null,
      "outputs": [
        {
          "output_type": "display_data",
          "data": {
            "text/html": [
              "\n",
              "     <input type=\"file\" id=\"files-c79aeb79-bd35-4f9e-ae9a-f5e9f0532d35\" name=\"files[]\" multiple disabled\n",
              "        style=\"border:none\" />\n",
              "     <output id=\"result-c79aeb79-bd35-4f9e-ae9a-f5e9f0532d35\">\n",
              "      Upload widget is only available when the cell has been executed in the\n",
              "      current browser session. Please rerun this cell to enable.\n",
              "      </output>\n",
              "      <script src=\"/nbextensions/google.colab/files.js\"></script> "
            ],
            "text/plain": [
              "<IPython.core.display.HTML object>"
            ]
          },
          "metadata": {
            "tags": []
          }
        },
        {
          "output_type": "stream",
          "text": [
            "Saving lowBirthWeight_609be41e05f61.xlsx to lowBirthWeight_609be41e05f61 (1).xlsx\n"
          ],
          "name": "stdout"
        }
      ]
    },
    {
      "cell_type": "code",
      "metadata": {
        "id": "8S6cDddCnuCc"
      },
      "source": [
        "import io\n",
        "df = pd.read_excel(io.BytesIO(uploaded['lowBirthWeight_609be41e05f61.xlsx']))"
      ],
      "execution_count": null,
      "outputs": []
    },
    {
      "cell_type": "code",
      "metadata": {
        "colab": {
          "base_uri": "https://localhost:8080/",
          "height": 202
        },
        "id": "9fKMN_HJn7vN",
        "outputId": "264dc53c-6064-4dcd-f97f-8364ddb1a7ec"
      },
      "source": [
        "df.head()"
      ],
      "execution_count": null,
      "outputs": [
        {
          "output_type": "execute_result",
          "data": {
            "text/html": [
              "<div>\n",
              "<style scoped>\n",
              "    .dataframe tbody tr th:only-of-type {\n",
              "        vertical-align: middle;\n",
              "    }\n",
              "\n",
              "    .dataframe tbody tr th {\n",
              "        vertical-align: top;\n",
              "    }\n",
              "\n",
              "    .dataframe thead th {\n",
              "        text-align: right;\n",
              "    }\n",
              "</style>\n",
              "<table border=\"1\" class=\"dataframe\">\n",
              "  <thead>\n",
              "    <tr style=\"text-align: right;\">\n",
              "      <th></th>\n",
              "      <th>CLASS</th>\n",
              "      <th>ID</th>\n",
              "      <th>AGE</th>\n",
              "      <th>LWT</th>\n",
              "      <th>RACE</th>\n",
              "      <th>SMOKE</th>\n",
              "      <th>PTL</th>\n",
              "      <th>HT</th>\n",
              "      <th>UI</th>\n",
              "      <th>birthWeight</th>\n",
              "    </tr>\n",
              "  </thead>\n",
              "  <tbody>\n",
              "    <tr>\n",
              "      <th>0</th>\n",
              "      <td>1</td>\n",
              "      <td>37323</td>\n",
              "      <td>28</td>\n",
              "      <td>113</td>\n",
              "      <td>1</td>\n",
              "      <td>1</td>\n",
              "      <td>1</td>\n",
              "      <td>0</td>\n",
              "      <td>1</td>\n",
              "      <td>709</td>\n",
              "    </tr>\n",
              "    <tr>\n",
              "      <th>1</th>\n",
              "      <td>1</td>\n",
              "      <td>16093</td>\n",
              "      <td>29</td>\n",
              "      <td>130</td>\n",
              "      <td>0</td>\n",
              "      <td>0</td>\n",
              "      <td>0</td>\n",
              "      <td>0</td>\n",
              "      <td>1</td>\n",
              "      <td>1021</td>\n",
              "    </tr>\n",
              "    <tr>\n",
              "      <th>2</th>\n",
              "      <td>1</td>\n",
              "      <td>48274</td>\n",
              "      <td>34</td>\n",
              "      <td>187</td>\n",
              "      <td>1</td>\n",
              "      <td>1</td>\n",
              "      <td>0</td>\n",
              "      <td>1</td>\n",
              "      <td>0</td>\n",
              "      <td>1135</td>\n",
              "    </tr>\n",
              "    <tr>\n",
              "      <th>3</th>\n",
              "      <td>1</td>\n",
              "      <td>83719</td>\n",
              "      <td>25</td>\n",
              "      <td>105</td>\n",
              "      <td>1</td>\n",
              "      <td>0</td>\n",
              "      <td>1</td>\n",
              "      <td>1</td>\n",
              "      <td>0</td>\n",
              "      <td>1330</td>\n",
              "    </tr>\n",
              "    <tr>\n",
              "      <th>4</th>\n",
              "      <td>1</td>\n",
              "      <td>24997</td>\n",
              "      <td>25</td>\n",
              "      <td>85</td>\n",
              "      <td>1</td>\n",
              "      <td>0</td>\n",
              "      <td>0</td>\n",
              "      <td>0</td>\n",
              "      <td>1</td>\n",
              "      <td>1474</td>\n",
              "    </tr>\n",
              "  </tbody>\n",
              "</table>\n",
              "</div>"
            ],
            "text/plain": [
              "   CLASS     ID  AGE  LWT  RACE  SMOKE  PTL  HT  UI  birthWeight\n",
              "0      1  37323   28  113     1      1    1   0   1          709\n",
              "1      1  16093   29  130     0      0    0   0   1         1021\n",
              "2      1  48274   34  187     1      1    0   1   0         1135\n",
              "3      1  83719   25  105     1      0    1   1   0         1330\n",
              "4      1  24997   25   85     1      0    0   0   1         1474"
            ]
          },
          "metadata": {
            "tags": []
          },
          "execution_count": 4
        }
      ]
    },
    {
      "cell_type": "code",
      "metadata": {
        "colab": {
          "base_uri": "https://localhost:8080/",
          "height": 294
        },
        "id": "wWXG7izZn-OJ",
        "outputId": "05e8c208-0086-46ec-b3c6-3f8e6f8a9b7d"
      },
      "source": [
        "df.describe()"
      ],
      "execution_count": null,
      "outputs": [
        {
          "output_type": "execute_result",
          "data": {
            "text/html": [
              "<div>\n",
              "<style scoped>\n",
              "    .dataframe tbody tr th:only-of-type {\n",
              "        vertical-align: middle;\n",
              "    }\n",
              "\n",
              "    .dataframe tbody tr th {\n",
              "        vertical-align: top;\n",
              "    }\n",
              "\n",
              "    .dataframe thead th {\n",
              "        text-align: right;\n",
              "    }\n",
              "</style>\n",
              "<table border=\"1\" class=\"dataframe\">\n",
              "  <thead>\n",
              "    <tr style=\"text-align: right;\">\n",
              "      <th></th>\n",
              "      <th>CLASS</th>\n",
              "      <th>ID</th>\n",
              "      <th>AGE</th>\n",
              "      <th>LWT</th>\n",
              "      <th>RACE</th>\n",
              "      <th>SMOKE</th>\n",
              "      <th>PTL</th>\n",
              "      <th>HT</th>\n",
              "      <th>UI</th>\n",
              "      <th>birthWeight</th>\n",
              "    </tr>\n",
              "  </thead>\n",
              "  <tbody>\n",
              "    <tr>\n",
              "      <th>count</th>\n",
              "      <td>189.000000</td>\n",
              "      <td>189.000000</td>\n",
              "      <td>189.000000</td>\n",
              "      <td>189.000000</td>\n",
              "      <td>189.000000</td>\n",
              "      <td>189.000000</td>\n",
              "      <td>189.000000</td>\n",
              "      <td>189.000000</td>\n",
              "      <td>189.000000</td>\n",
              "      <td>189.000000</td>\n",
              "    </tr>\n",
              "    <tr>\n",
              "      <th>mean</th>\n",
              "      <td>0.312169</td>\n",
              "      <td>52094.349206</td>\n",
              "      <td>23.238095</td>\n",
              "      <td>129.846561</td>\n",
              "      <td>0.486772</td>\n",
              "      <td>0.391534</td>\n",
              "      <td>0.169312</td>\n",
              "      <td>0.079365</td>\n",
              "      <td>0.153439</td>\n",
              "      <td>2944.656085</td>\n",
              "    </tr>\n",
              "    <tr>\n",
              "      <th>std</th>\n",
              "      <td>0.464609</td>\n",
              "      <td>25180.168782</td>\n",
              "      <td>5.298678</td>\n",
              "      <td>29.445997</td>\n",
              "      <td>0.501153</td>\n",
              "      <td>0.489390</td>\n",
              "      <td>0.376024</td>\n",
              "      <td>0.271026</td>\n",
              "      <td>0.361368</td>\n",
              "      <td>729.022417</td>\n",
              "    </tr>\n",
              "    <tr>\n",
              "      <th>min</th>\n",
              "      <td>0.000000</td>\n",
              "      <td>10625.000000</td>\n",
              "      <td>14.000000</td>\n",
              "      <td>80.000000</td>\n",
              "      <td>0.000000</td>\n",
              "      <td>0.000000</td>\n",
              "      <td>0.000000</td>\n",
              "      <td>0.000000</td>\n",
              "      <td>0.000000</td>\n",
              "      <td>709.000000</td>\n",
              "    </tr>\n",
              "    <tr>\n",
              "      <th>25%</th>\n",
              "      <td>0.000000</td>\n",
              "      <td>31009.000000</td>\n",
              "      <td>19.000000</td>\n",
              "      <td>110.000000</td>\n",
              "      <td>0.000000</td>\n",
              "      <td>0.000000</td>\n",
              "      <td>0.000000</td>\n",
              "      <td>0.000000</td>\n",
              "      <td>0.000000</td>\n",
              "      <td>2414.000000</td>\n",
              "    </tr>\n",
              "    <tr>\n",
              "      <th>50%</th>\n",
              "      <td>0.000000</td>\n",
              "      <td>53930.000000</td>\n",
              "      <td>23.000000</td>\n",
              "      <td>122.000000</td>\n",
              "      <td>0.000000</td>\n",
              "      <td>0.000000</td>\n",
              "      <td>0.000000</td>\n",
              "      <td>0.000000</td>\n",
              "      <td>0.000000</td>\n",
              "      <td>2977.000000</td>\n",
              "    </tr>\n",
              "    <tr>\n",
              "      <th>75%</th>\n",
              "      <td>1.000000</td>\n",
              "      <td>73228.000000</td>\n",
              "      <td>26.000000</td>\n",
              "      <td>141.000000</td>\n",
              "      <td>1.000000</td>\n",
              "      <td>1.000000</td>\n",
              "      <td>0.000000</td>\n",
              "      <td>0.000000</td>\n",
              "      <td>0.000000</td>\n",
              "      <td>3475.000000</td>\n",
              "    </tr>\n",
              "    <tr>\n",
              "      <th>max</th>\n",
              "      <td>1.000000</td>\n",
              "      <td>99435.000000</td>\n",
              "      <td>45.000000</td>\n",
              "      <td>250.000000</td>\n",
              "      <td>1.000000</td>\n",
              "      <td>1.000000</td>\n",
              "      <td>1.000000</td>\n",
              "      <td>1.000000</td>\n",
              "      <td>1.000000</td>\n",
              "      <td>4990.000000</td>\n",
              "    </tr>\n",
              "  </tbody>\n",
              "</table>\n",
              "</div>"
            ],
            "text/plain": [
              "            CLASS            ID  ...          UI  birthWeight\n",
              "count  189.000000    189.000000  ...  189.000000   189.000000\n",
              "mean     0.312169  52094.349206  ...    0.153439  2944.656085\n",
              "std      0.464609  25180.168782  ...    0.361368   729.022417\n",
              "min      0.000000  10625.000000  ...    0.000000   709.000000\n",
              "25%      0.000000  31009.000000  ...    0.000000  2414.000000\n",
              "50%      0.000000  53930.000000  ...    0.000000  2977.000000\n",
              "75%      1.000000  73228.000000  ...    0.000000  3475.000000\n",
              "max      1.000000  99435.000000  ...    1.000000  4990.000000\n",
              "\n",
              "[8 rows x 10 columns]"
            ]
          },
          "metadata": {
            "tags": []
          },
          "execution_count": 5
        }
      ]
    },
    {
      "cell_type": "code",
      "metadata": {
        "colab": {
          "base_uri": "https://localhost:8080/"
        },
        "id": "3mgd37pmoNzY",
        "outputId": "2889224f-1395-4e30-b40e-89fb12fa1718"
      },
      "source": [
        "df.nunique()"
      ],
      "execution_count": null,
      "outputs": [
        {
          "output_type": "execute_result",
          "data": {
            "text/plain": [
              "CLASS            2\n",
              "ID             189\n",
              "AGE             24\n",
              "LWT             73\n",
              "RACE             2\n",
              "SMOKE            2\n",
              "PTL              2\n",
              "HT               2\n",
              "UI               2\n",
              "birthWeight    133\n",
              "dtype: int64"
            ]
          },
          "metadata": {
            "tags": []
          },
          "execution_count": 6
        }
      ]
    },
    {
      "cell_type": "code",
      "metadata": {
        "id": "kVdkzs4moOt7"
      },
      "source": [
        "df1 = df.drop(['ID'], axis=1)"
      ],
      "execution_count": null,
      "outputs": []
    },
    {
      "cell_type": "code",
      "metadata": {
        "colab": {
          "base_uri": "https://localhost:8080/"
        },
        "id": "LoVpBCOgoRe2",
        "outputId": "ccab47d5-0c51-4fd9-b9a9-16b9c50b943b"
      },
      "source": [
        "df1.columns"
      ],
      "execution_count": null,
      "outputs": [
        {
          "output_type": "execute_result",
          "data": {
            "text/plain": [
              "Index(['CLASS', 'AGE', 'LWT', 'RACE', 'SMOKE', 'PTL', 'HT', 'UI',\n",
              "       'birthWeight'],\n",
              "      dtype='object')"
            ]
          },
          "metadata": {
            "tags": []
          },
          "execution_count": 8
        }
      ]
    },
    {
      "cell_type": "code",
      "metadata": {
        "id": "WuM1AwAKoTBy"
      },
      "source": [
        "from sklearn.preprocessing import MinMaxScaler\n",
        "min_max_scaler = MinMaxScaler()"
      ],
      "execution_count": null,
      "outputs": []
    },
    {
      "cell_type": "code",
      "metadata": {
        "id": "agaxoMZQoVK9"
      },
      "source": [
        "df2  = pd.DataFrame(min_max_scaler.fit_transform(df1))\n",
        "df2.columns = df1.columns"
      ],
      "execution_count": null,
      "outputs": []
    },
    {
      "cell_type": "code",
      "metadata": {
        "colab": {
          "base_uri": "https://localhost:8080/",
          "height": 202
        },
        "id": "99F_0VYpoads",
        "outputId": "fd571408-725d-4533-9328-011ee9fb414a"
      },
      "source": [
        "df2.head()"
      ],
      "execution_count": null,
      "outputs": [
        {
          "output_type": "execute_result",
          "data": {
            "text/html": [
              "<div>\n",
              "<style scoped>\n",
              "    .dataframe tbody tr th:only-of-type {\n",
              "        vertical-align: middle;\n",
              "    }\n",
              "\n",
              "    .dataframe tbody tr th {\n",
              "        vertical-align: top;\n",
              "    }\n",
              "\n",
              "    .dataframe thead th {\n",
              "        text-align: right;\n",
              "    }\n",
              "</style>\n",
              "<table border=\"1\" class=\"dataframe\">\n",
              "  <thead>\n",
              "    <tr style=\"text-align: right;\">\n",
              "      <th></th>\n",
              "      <th>CLASS</th>\n",
              "      <th>AGE</th>\n",
              "      <th>LWT</th>\n",
              "      <th>RACE</th>\n",
              "      <th>SMOKE</th>\n",
              "      <th>PTL</th>\n",
              "      <th>HT</th>\n",
              "      <th>UI</th>\n",
              "      <th>birthWeight</th>\n",
              "    </tr>\n",
              "  </thead>\n",
              "  <tbody>\n",
              "    <tr>\n",
              "      <th>0</th>\n",
              "      <td>1.0</td>\n",
              "      <td>0.451613</td>\n",
              "      <td>0.194118</td>\n",
              "      <td>1.0</td>\n",
              "      <td>1.0</td>\n",
              "      <td>1.0</td>\n",
              "      <td>0.0</td>\n",
              "      <td>1.0</td>\n",
              "      <td>0.000000</td>\n",
              "    </tr>\n",
              "    <tr>\n",
              "      <th>1</th>\n",
              "      <td>1.0</td>\n",
              "      <td>0.483871</td>\n",
              "      <td>0.294118</td>\n",
              "      <td>0.0</td>\n",
              "      <td>0.0</td>\n",
              "      <td>0.0</td>\n",
              "      <td>0.0</td>\n",
              "      <td>1.0</td>\n",
              "      <td>0.072880</td>\n",
              "    </tr>\n",
              "    <tr>\n",
              "      <th>2</th>\n",
              "      <td>1.0</td>\n",
              "      <td>0.645161</td>\n",
              "      <td>0.629412</td>\n",
              "      <td>1.0</td>\n",
              "      <td>1.0</td>\n",
              "      <td>0.0</td>\n",
              "      <td>1.0</td>\n",
              "      <td>0.0</td>\n",
              "      <td>0.099509</td>\n",
              "    </tr>\n",
              "    <tr>\n",
              "      <th>3</th>\n",
              "      <td>1.0</td>\n",
              "      <td>0.354839</td>\n",
              "      <td>0.147059</td>\n",
              "      <td>1.0</td>\n",
              "      <td>0.0</td>\n",
              "      <td>1.0</td>\n",
              "      <td>1.0</td>\n",
              "      <td>0.0</td>\n",
              "      <td>0.145060</td>\n",
              "    </tr>\n",
              "    <tr>\n",
              "      <th>4</th>\n",
              "      <td>1.0</td>\n",
              "      <td>0.354839</td>\n",
              "      <td>0.029412</td>\n",
              "      <td>1.0</td>\n",
              "      <td>0.0</td>\n",
              "      <td>0.0</td>\n",
              "      <td>0.0</td>\n",
              "      <td>1.0</td>\n",
              "      <td>0.178697</td>\n",
              "    </tr>\n",
              "  </tbody>\n",
              "</table>\n",
              "</div>"
            ],
            "text/plain": [
              "   CLASS       AGE       LWT  RACE  SMOKE  PTL   HT   UI  birthWeight\n",
              "0    1.0  0.451613  0.194118   1.0    1.0  1.0  0.0  1.0     0.000000\n",
              "1    1.0  0.483871  0.294118   0.0    0.0  0.0  0.0  1.0     0.072880\n",
              "2    1.0  0.645161  0.629412   1.0    1.0  0.0  1.0  0.0     0.099509\n",
              "3    1.0  0.354839  0.147059   1.0    0.0  1.0  1.0  0.0     0.145060\n",
              "4    1.0  0.354839  0.029412   1.0    0.0  0.0  0.0  1.0     0.178697"
            ]
          },
          "metadata": {
            "tags": []
          },
          "execution_count": 11
        }
      ]
    },
    {
      "cell_type": "code",
      "metadata": {
        "colab": {
          "base_uri": "https://localhost:8080/"
        },
        "id": "cBh4HUtxob69",
        "outputId": "2c1fbb8a-64d8-4d2a-9c8d-578aceae5e24"
      },
      "source": [
        "import numpy as np\n",
        "X = np.asarray(df2[['AGE','LWT','RACE','SMOKE','PTL','HT','UI','birthWeight']])\n",
        "X[0:5]"
      ],
      "execution_count": null,
      "outputs": [
        {
          "output_type": "execute_result",
          "data": {
            "text/plain": [
              "array([[0.4516129 , 0.19411765, 1.        , 1.        , 1.        ,\n",
              "        0.        , 1.        , 0.        ],\n",
              "       [0.48387097, 0.29411765, 0.        , 0.        , 0.        ,\n",
              "        0.        , 1.        , 0.07288017],\n",
              "       [0.64516129, 0.62941176, 1.        , 1.        , 0.        ,\n",
              "        1.        , 0.        , 0.09950946],\n",
              "       [0.35483871, 0.14705882, 1.        , 0.        , 1.        ,\n",
              "        1.        , 0.        , 0.14505957],\n",
              "       [0.35483871, 0.02941176, 1.        , 0.        , 0.        ,\n",
              "        0.        , 1.        , 0.17869657]])"
            ]
          },
          "metadata": {
            "tags": []
          },
          "execution_count": 12
        }
      ]
    },
    {
      "cell_type": "code",
      "metadata": {
        "colab": {
          "base_uri": "https://localhost:8080/"
        },
        "id": "ZmIjGGSrofNt",
        "outputId": "6d221a25-35f4-47c3-b7be-966d41d8a8f2"
      },
      "source": [
        "y = np.asarray(df2[['CLASS']])\n",
        "y[0:5]"
      ],
      "execution_count": null,
      "outputs": [
        {
          "output_type": "execute_result",
          "data": {
            "text/plain": [
              "array([[1.],\n",
              "       [1.],\n",
              "       [1.],\n",
              "       [1.],\n",
              "       [1.]])"
            ]
          },
          "metadata": {
            "tags": []
          },
          "execution_count": 13
        }
      ]
    },
    {
      "cell_type": "code",
      "metadata": {
        "id": "tGbON6eZog2_",
        "colab": {
          "base_uri": "https://localhost:8080/"
        },
        "outputId": "81453c21-7620-4abd-e786-465054b70f19"
      },
      "source": [
        "X.shape"
      ],
      "execution_count": null,
      "outputs": [
        {
          "output_type": "execute_result",
          "data": {
            "text/plain": [
              "(189, 8)"
            ]
          },
          "metadata": {
            "tags": []
          },
          "execution_count": 14
        }
      ]
    },
    {
      "cell_type": "code",
      "metadata": {
        "id": "u-P6Q8SRoinI",
        "colab": {
          "base_uri": "https://localhost:8080/"
        },
        "outputId": "56af0e64-fda3-4d51-b468-404574dae257"
      },
      "source": [
        "y.shape"
      ],
      "execution_count": null,
      "outputs": [
        {
          "output_type": "execute_result",
          "data": {
            "text/plain": [
              "(189, 1)"
            ]
          },
          "metadata": {
            "tags": []
          },
          "execution_count": 15
        }
      ]
    },
    {
      "cell_type": "code",
      "metadata": {
        "id": "P4QIKQQjwczB"
      },
      "source": [
        "from sklearn.model_selection import train_test_split\n",
        "X_train, X_test, y_train, y_test = train_test_split(X,y, test_size=0.2, random_state = 1)"
      ],
      "execution_count": null,
      "outputs": []
    },
    {
      "cell_type": "code",
      "metadata": {
        "id": "-6iGHcwX52MF"
      },
      "source": [
        "from tensorflow.keras.models import Sequential\n",
        "from tensorflow.keras.layers import InputLayer\n",
        "from tensorflow.keras.layers import Dense\n",
        "from tensorflow.keras.optimizers import Adam"
      ],
      "execution_count": null,
      "outputs": []
    },
    {
      "cell_type": "code",
      "metadata": {
        "id": "NiMSmyDH697j"
      },
      "source": [
        "def design_model(features):\n",
        "  model = Sequential()\n",
        "  input = InputLayer(input_shape=(features.shape[1],))\n",
        "  model.add(input)\n",
        "  model.add(Dense(1, activation = 'sigmoid'))\n",
        "  opt = Adam(learning_rate=0.01)\n",
        "  model.compile(loss='BinaryCrossentropy',optimizer = opt,metrics=['accuracy'])\n",
        "  return model"
      ],
      "execution_count": null,
      "outputs": []
    },
    {
      "cell_type": "code",
      "metadata": {
        "id": "aagsrfMz77vt"
      },
      "source": [
        "model = design_model(X_train)"
      ],
      "execution_count": null,
      "outputs": []
    },
    {
      "cell_type": "code",
      "metadata": {
        "colab": {
          "base_uri": "https://localhost:8080/"
        },
        "id": "4JQD6S2_BEOo",
        "outputId": "48937f3b-8b9f-46a0-99fe-01df1c919409"
      },
      "source": [
        "history = model.fit(X_train,y_train,epochs=50,batch_size=25)"
      ],
      "execution_count": null,
      "outputs": [
        {
          "output_type": "stream",
          "text": [
            "Epoch 1/50\n",
            "7/7 [==============================] - 0s 2ms/step - loss: 0.7681 - accuracy: 0.4631\n",
            "Epoch 2/50\n",
            "7/7 [==============================] - 0s 2ms/step - loss: 0.7311 - accuracy: 0.4715\n",
            "Epoch 3/50\n",
            "7/7 [==============================] - 0s 1ms/step - loss: 0.6952 - accuracy: 0.4897\n",
            "Epoch 4/50\n",
            "7/7 [==============================] - 0s 3ms/step - loss: 0.6847 - accuracy: 0.5065\n",
            "Epoch 5/50\n",
            "7/7 [==============================] - 0s 1ms/step - loss: 0.6249 - accuracy: 0.6323\n",
            "Epoch 6/50\n",
            "7/7 [==============================] - 0s 3ms/step - loss: 0.6340 - accuracy: 0.6509\n",
            "Epoch 7/50\n",
            "7/7 [==============================] - 0s 2ms/step - loss: 0.6181 - accuracy: 0.6762\n",
            "Epoch 8/50\n",
            "7/7 [==============================] - 0s 2ms/step - loss: 0.5805 - accuracy: 0.7272\n",
            "Epoch 9/50\n",
            "7/7 [==============================] - 0s 2ms/step - loss: 0.5884 - accuracy: 0.7425\n",
            "Epoch 10/50\n",
            "7/7 [==============================] - 0s 1ms/step - loss: 0.5698 - accuracy: 0.7486\n",
            "Epoch 11/50\n",
            "7/7 [==============================] - 0s 2ms/step - loss: 0.5993 - accuracy: 0.7225\n",
            "Epoch 12/50\n",
            "7/7 [==============================] - 0s 2ms/step - loss: 0.5681 - accuracy: 0.7483\n",
            "Epoch 13/50\n",
            "7/7 [==============================] - 0s 2ms/step - loss: 0.5661 - accuracy: 0.7200\n",
            "Epoch 14/50\n",
            "7/7 [==============================] - 0s 2ms/step - loss: 0.5500 - accuracy: 0.7485\n",
            "Epoch 15/50\n",
            "7/7 [==============================] - 0s 2ms/step - loss: 0.5618 - accuracy: 0.7133\n",
            "Epoch 16/50\n",
            "7/7 [==============================] - 0s 2ms/step - loss: 0.5436 - accuracy: 0.7510\n",
            "Epoch 17/50\n",
            "7/7 [==============================] - 0s 2ms/step - loss: 0.5338 - accuracy: 0.7368\n",
            "Epoch 18/50\n",
            "7/7 [==============================] - 0s 2ms/step - loss: 0.5545 - accuracy: 0.7244\n",
            "Epoch 19/50\n",
            "7/7 [==============================] - 0s 2ms/step - loss: 0.5468 - accuracy: 0.7258\n",
            "Epoch 20/50\n",
            "7/7 [==============================] - 0s 2ms/step - loss: 0.5082 - accuracy: 0.7749\n",
            "Epoch 21/50\n",
            "7/7 [==============================] - 0s 3ms/step - loss: 0.5525 - accuracy: 0.7083\n",
            "Epoch 22/50\n",
            "7/7 [==============================] - 0s 2ms/step - loss: 0.5368 - accuracy: 0.7341\n",
            "Epoch 23/50\n",
            "7/7 [==============================] - 0s 2ms/step - loss: 0.5624 - accuracy: 0.6921\n",
            "Epoch 24/50\n",
            "7/7 [==============================] - 0s 2ms/step - loss: 0.5426 - accuracy: 0.7134\n",
            "Epoch 25/50\n",
            "7/7 [==============================] - 0s 2ms/step - loss: 0.5373 - accuracy: 0.7253\n",
            "Epoch 26/50\n",
            "7/7 [==============================] - 0s 2ms/step - loss: 0.5112 - accuracy: 0.7956\n",
            "Epoch 27/50\n",
            "7/7 [==============================] - 0s 1ms/step - loss: 0.5413 - accuracy: 0.7553\n",
            "Epoch 28/50\n",
            "7/7 [==============================] - 0s 2ms/step - loss: 0.5131 - accuracy: 0.7903\n",
            "Epoch 29/50\n",
            "7/7 [==============================] - 0s 2ms/step - loss: 0.5334 - accuracy: 0.7597\n",
            "Epoch 30/50\n",
            "7/7 [==============================] - 0s 2ms/step - loss: 0.5430 - accuracy: 0.7309\n",
            "Epoch 31/50\n",
            "7/7 [==============================] - 0s 2ms/step - loss: 0.5242 - accuracy: 0.7531\n",
            "Epoch 32/50\n",
            "7/7 [==============================] - 0s 2ms/step - loss: 0.5141 - accuracy: 0.7614\n",
            "Epoch 33/50\n",
            "7/7 [==============================] - 0s 1ms/step - loss: 0.5345 - accuracy: 0.7290\n",
            "Epoch 34/50\n",
            "7/7 [==============================] - 0s 2ms/step - loss: 0.5360 - accuracy: 0.7432\n",
            "Epoch 35/50\n",
            "7/7 [==============================] - 0s 2ms/step - loss: 0.4719 - accuracy: 0.7871\n",
            "Epoch 36/50\n",
            "7/7 [==============================] - 0s 1ms/step - loss: 0.5001 - accuracy: 0.7726\n",
            "Epoch 37/50\n",
            "7/7 [==============================] - 0s 2ms/step - loss: 0.5152 - accuracy: 0.7524\n",
            "Epoch 38/50\n",
            "7/7 [==============================] - 0s 1ms/step - loss: 0.4910 - accuracy: 0.7843\n",
            "Epoch 39/50\n",
            "7/7 [==============================] - 0s 2ms/step - loss: 0.5152 - accuracy: 0.7531\n",
            "Epoch 40/50\n",
            "7/7 [==============================] - 0s 2ms/step - loss: 0.4901 - accuracy: 0.7631\n",
            "Epoch 41/50\n",
            "7/7 [==============================] - 0s 2ms/step - loss: 0.5173 - accuracy: 0.7429\n",
            "Epoch 42/50\n",
            "7/7 [==============================] - 0s 2ms/step - loss: 0.4808 - accuracy: 0.7857\n",
            "Epoch 43/50\n",
            "7/7 [==============================] - 0s 1ms/step - loss: 0.4943 - accuracy: 0.7760\n",
            "Epoch 44/50\n",
            "7/7 [==============================] - 0s 2ms/step - loss: 0.5010 - accuracy: 0.7545\n",
            "Epoch 45/50\n",
            "7/7 [==============================] - 0s 2ms/step - loss: 0.4586 - accuracy: 0.8106\n",
            "Epoch 46/50\n",
            "7/7 [==============================] - 0s 2ms/step - loss: 0.4657 - accuracy: 0.7832\n",
            "Epoch 47/50\n",
            "7/7 [==============================] - 0s 2ms/step - loss: 0.4751 - accuracy: 0.7969\n",
            "Epoch 48/50\n",
            "7/7 [==============================] - 0s 2ms/step - loss: 0.5111 - accuracy: 0.7406\n",
            "Epoch 49/50\n",
            "7/7 [==============================] - 0s 2ms/step - loss: 0.4884 - accuracy: 0.7432\n",
            "Epoch 50/50\n",
            "7/7 [==============================] - 0s 3ms/step - loss: 0.4876 - accuracy: 0.7682\n"
          ],
          "name": "stdout"
        }
      ]
    },
    {
      "cell_type": "code",
      "metadata": {
        "id": "Y4ysBk8-SMUE"
      },
      "source": [
        "X_before = np.asarray(df1[['AGE','LWT','RACE','SMOKE','PTL','HT','UI','birthWeight']])\n",
        "y_before = np.asarray(df2[['CLASS']])\n",
        "X_trainbf, X_testbf, y_trainbf, y_testbf = train_test_split(X_before,y_before, test_size=0.2, random_state = 1)"
      ],
      "execution_count": null,
      "outputs": []
    },
    {
      "cell_type": "code",
      "metadata": {
        "id": "rLEsN-DYSPmd"
      },
      "source": [
        "X_train_scaled_bf = pd.DataFrame(min_max_scaler.fit_transform(X_trainbf))\n",
        "X_test_scaled_bf = pd.DataFrame(min_max_scaler.fit_transform(X_testbf))\n",
        "y_train_scaled_bf = pd.DataFrame(min_max_scaler.fit_transform(y_trainbf))\n",
        "y_test_scaled_bf = pd.DataFrame(min_max_scaler.fit_transform(y_testbf))"
      ],
      "execution_count": null,
      "outputs": []
    },
    {
      "cell_type": "code",
      "metadata": {
        "colab": {
          "base_uri": "https://localhost:8080/"
        },
        "id": "fpQndzaxSU3L",
        "outputId": "52560b40-686f-4cb1-8a58-592c0b47900d"
      },
      "source": [
        "history2 = model.fit(X_train_scaled_bf,y_train_scaled_bf,epochs=50,batch_size=25)"
      ],
      "execution_count": null,
      "outputs": [
        {
          "output_type": "stream",
          "text": [
            "Epoch 1/50\n",
            "7/7 [==============================] - 0s 2ms/step - loss: 0.4762 - accuracy: 0.7550\n",
            "Epoch 2/50\n",
            "7/7 [==============================] - 0s 2ms/step - loss: 0.4753 - accuracy: 0.7616\n",
            "Epoch 3/50\n",
            "7/7 [==============================] - 0s 2ms/step - loss: 0.4732 - accuracy: 0.7550\n",
            "Epoch 4/50\n",
            "7/7 [==============================] - 0s 2ms/step - loss: 0.4715 - accuracy: 0.7616\n",
            "Epoch 5/50\n",
            "7/7 [==============================] - 0s 2ms/step - loss: 0.4706 - accuracy: 0.7616\n",
            "Epoch 6/50\n",
            "7/7 [==============================] - 0s 2ms/step - loss: 0.4688 - accuracy: 0.7682\n",
            "Epoch 7/50\n",
            "7/7 [==============================] - 0s 2ms/step - loss: 0.4673 - accuracy: 0.7682\n",
            "Epoch 8/50\n",
            "7/7 [==============================] - 0s 2ms/step - loss: 0.4663 - accuracy: 0.7682\n",
            "Epoch 9/50\n",
            "7/7 [==============================] - 0s 2ms/step - loss: 0.4654 - accuracy: 0.7682\n",
            "Epoch 10/50\n",
            "7/7 [==============================] - 0s 2ms/step - loss: 0.4640 - accuracy: 0.7616\n",
            "Epoch 11/50\n",
            "7/7 [==============================] - 0s 2ms/step - loss: 0.4620 - accuracy: 0.7616\n",
            "Epoch 12/50\n",
            "7/7 [==============================] - 0s 2ms/step - loss: 0.4596 - accuracy: 0.7682\n",
            "Epoch 13/50\n",
            "7/7 [==============================] - 0s 2ms/step - loss: 0.4578 - accuracy: 0.7748\n",
            "Epoch 14/50\n",
            "7/7 [==============================] - 0s 2ms/step - loss: 0.4581 - accuracy: 0.7748\n",
            "Epoch 15/50\n",
            "7/7 [==============================] - 0s 2ms/step - loss: 0.4575 - accuracy: 0.7748\n",
            "Epoch 16/50\n",
            "7/7 [==============================] - 0s 2ms/step - loss: 0.4564 - accuracy: 0.7748\n",
            "Epoch 17/50\n",
            "7/7 [==============================] - 0s 2ms/step - loss: 0.4546 - accuracy: 0.7748\n",
            "Epoch 18/50\n",
            "7/7 [==============================] - 0s 2ms/step - loss: 0.4540 - accuracy: 0.7815\n",
            "Epoch 19/50\n",
            "7/7 [==============================] - 0s 4ms/step - loss: 0.4518 - accuracy: 0.7815\n",
            "Epoch 20/50\n",
            "7/7 [==============================] - 0s 2ms/step - loss: 0.4508 - accuracy: 0.7748\n",
            "Epoch 21/50\n",
            "7/7 [==============================] - 0s 2ms/step - loss: 0.4496 - accuracy: 0.7815\n",
            "Epoch 22/50\n",
            "7/7 [==============================] - 0s 2ms/step - loss: 0.4483 - accuracy: 0.7881\n",
            "Epoch 23/50\n",
            "7/7 [==============================] - 0s 2ms/step - loss: 0.4469 - accuracy: 0.7815\n",
            "Epoch 24/50\n",
            "7/7 [==============================] - 0s 3ms/step - loss: 0.4458 - accuracy: 0.7815\n",
            "Epoch 25/50\n",
            "7/7 [==============================] - 0s 4ms/step - loss: 0.4446 - accuracy: 0.7815\n",
            "Epoch 26/50\n",
            "7/7 [==============================] - 0s 2ms/step - loss: 0.4439 - accuracy: 0.7815\n",
            "Epoch 27/50\n",
            "7/7 [==============================] - 0s 3ms/step - loss: 0.4431 - accuracy: 0.7881\n",
            "Epoch 28/50\n",
            "7/7 [==============================] - 0s 2ms/step - loss: 0.4423 - accuracy: 0.7881\n",
            "Epoch 29/50\n",
            "7/7 [==============================] - 0s 2ms/step - loss: 0.4409 - accuracy: 0.7881\n",
            "Epoch 30/50\n",
            "7/7 [==============================] - 0s 2ms/step - loss: 0.4399 - accuracy: 0.7815\n",
            "Epoch 31/50\n",
            "7/7 [==============================] - 0s 2ms/step - loss: 0.4392 - accuracy: 0.7815\n",
            "Epoch 32/50\n",
            "7/7 [==============================] - 0s 3ms/step - loss: 0.4381 - accuracy: 0.7815\n",
            "Epoch 33/50\n",
            "7/7 [==============================] - 0s 2ms/step - loss: 0.4372 - accuracy: 0.7881\n",
            "Epoch 34/50\n",
            "7/7 [==============================] - 0s 3ms/step - loss: 0.4373 - accuracy: 0.7815\n",
            "Epoch 35/50\n",
            "7/7 [==============================] - 0s 2ms/step - loss: 0.4377 - accuracy: 0.8079\n",
            "Epoch 36/50\n",
            "7/7 [==============================] - 0s 2ms/step - loss: 0.4365 - accuracy: 0.8146\n",
            "Epoch 37/50\n",
            "7/7 [==============================] - 0s 2ms/step - loss: 0.4355 - accuracy: 0.8146\n",
            "Epoch 38/50\n",
            "7/7 [==============================] - 0s 2ms/step - loss: 0.4348 - accuracy: 0.8146\n",
            "Epoch 39/50\n",
            "7/7 [==============================] - 0s 2ms/step - loss: 0.4338 - accuracy: 0.8079\n",
            "Epoch 40/50\n",
            "7/7 [==============================] - 0s 2ms/step - loss: 0.4317 - accuracy: 0.7947\n",
            "Epoch 41/50\n",
            "7/7 [==============================] - 0s 2ms/step - loss: 0.4303 - accuracy: 0.7947\n",
            "Epoch 42/50\n",
            "7/7 [==============================] - 0s 2ms/step - loss: 0.4295 - accuracy: 0.8013\n",
            "Epoch 43/50\n",
            "7/7 [==============================] - 0s 2ms/step - loss: 0.4282 - accuracy: 0.7947\n",
            "Epoch 44/50\n",
            "7/7 [==============================] - 0s 4ms/step - loss: 0.4272 - accuracy: 0.7947\n",
            "Epoch 45/50\n",
            "7/7 [==============================] - 0s 2ms/step - loss: 0.4262 - accuracy: 0.7947\n",
            "Epoch 46/50\n",
            "7/7 [==============================] - 0s 2ms/step - loss: 0.4254 - accuracy: 0.8013\n",
            "Epoch 47/50\n",
            "7/7 [==============================] - 0s 3ms/step - loss: 0.4245 - accuracy: 0.7947\n",
            "Epoch 48/50\n",
            "7/7 [==============================] - 0s 3ms/step - loss: 0.4240 - accuracy: 0.7947\n",
            "Epoch 49/50\n",
            "7/7 [==============================] - 0s 2ms/step - loss: 0.4230 - accuracy: 0.8013\n",
            "Epoch 50/50\n",
            "7/7 [==============================] - 0s 2ms/step - loss: 0.4226 - accuracy: 0.7881\n"
          ],
          "name": "stdout"
        }
      ]
    },
    {
      "cell_type": "code",
      "metadata": {
        "colab": {
          "base_uri": "https://localhost:8080/",
          "height": 295
        },
        "id": "7SoXqwxRDGtc",
        "outputId": "850a542f-cc09-4dda-ce5e-6d228a32d86f"
      },
      "source": [
        "import matplotlib.pyplot as plt\n",
        "plt.plot(history.history['loss'], label ='Normalize before split' )\n",
        "plt.plot(history2.history['loss'], label = 'Normalize after split')\n",
        "plt.title('Model Loss')\n",
        "plt.xlabel('Epoch')\n",
        "plt.ylabel('Loss')\n",
        "plt.legend()\n",
        "plt.show()"
      ],
      "execution_count": null,
      "outputs": [
        {
          "output_type": "display_data",
          "data": {
            "image/png": "[encoded data removed]",
            "text/plain": [
              "<Figure size 432x288 with 1 Axes>"
            ]
          },
          "metadata": {
            "tags": [],
            "needs_background": "light"
          }
        }
      ]
    },
    {
      "cell_type": "code",
      "metadata": {
        "colab": {
          "base_uri": "https://localhost:8080/",
          "height": 295
        },
        "id": "4QSRb33eOokW",
        "outputId": "dc08bd4d-c313-4445-a2de-98a8fe52b486"
      },
      "source": [
        "plt.plot(history.history['accuracy'], label = 'Normalize before split')\n",
        "plt.plot(history2.history['accuracy'], label = 'Normalize after split')\n",
        "plt.title('Model Accuracy')\n",
        "plt.xlabel('Epoch')\n",
        "plt.ylabel('Accuracy')\n",
        "plt.legend()\n",
        "plt.show()"
      ],
      "execution_count": null,
      "outputs": [
        {
          "output_type": "display_data",
          "data": {
            "image/png": "[encoded data removed]",
            "text/plain": [
              "<Figure size 432x288 with 1 Axes>"
            ]
          },
          "metadata": {
            "tags": [],
            "needs_background": "light"
          }
        }
      ]
    },
    {
      "cell_type": "markdown",
      "metadata": {
        "id": "JfA-SbOFRKrZ"
      },
      "source": [
        "จะเห็นได้ว่า ประสิทธิภาพของโมเดลเมื่อ min-max scaling หลังจาก split data มี accuracy ที่ดีกว่า และ loss ที่น้อยกว่าอย่างชัดเจน โดยมี accuracy สูงถึง 0.78 ใน epoch แรก ซี่งการ train model โดยที่ scale data ก่อนจะทำให้ได้ accuracy ใน epoch แรกเพียง 0.46 เท่านั้น คาดว่าสาเหตุที่เกิดเหตุการณ์นี้ขึ้น เป็นเพราะว่า การทำ scaling ก่อน split dataset นั้นทำให้เกิดการรั่วไหลของข้อมูลระหว่างชุด จึงทำให้มีประสิทธิภาพของ model ที่ไม่ดีนัก"
      ]
    }
  ]
}